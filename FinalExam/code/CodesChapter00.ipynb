{
  "nbformat": 4,
  "nbformat_minor": 0,
  "metadata": {
    "colab": {
      "provenance": [],
      "gpuType": "T4"
    },
    "kernelspec": {
      "name": "python3",
      "display_name": "Python 3"
    },
    "language_info": {
      "name": "python"
    },
    "accelerator": "GPU"
  },
  "cells": [
    {
      "cell_type": "code",
      "execution_count": 39,
      "metadata": {
        "id": "dSC8X7Vn9nm8"
      },
      "outputs": [],
      "source": [
        "#Nama : Ardhien Fadhillah Suhartono\n",
        "#NIM  : 1103204137"
      ]
    },
    {
      "cell_type": "markdown",
      "source": [
        "****PyTorch****\n",
        "\n",
        "PyTorch adalah sebuah library machine learning dan deep learning yang sangat populer. PyTorch menyediakan alat yang kuat untuk mengembangkan model machine learning, terutama model neural network. Berikut adalah beberapa konsep dasar atau fondasi (fundamentals) PyTorch:\n",
        "\n",
        "1. **Tensor:**\n",
        "   - Tensor adalah struktur data utama dalam PyTorch. Mirip dengan array multidimensi, tensor dapat berupa skalar (0D), vektor (1D), matriks (2D), atau tensor dengan dimensi lebih tinggi.\n",
        "   - Operasi tensor yang efisien dan fleksibel memungkinkan pengolahan data numerik dengan mudah.\n",
        "\n",
        "2. **Autograd:**\n",
        "   - PyTorch menyediakan modul autograd yang otomatis menghitung gradien (derivative) dari operasi-operasi tensor.\n",
        "   - Ini sangat berguna dalam pelatihan model machine learning karena mempermudah perhitungan gradien yang diperlukan untuk memperbarui parameter model.\n",
        "\n",
        "3. **Model dan Layers:**\n",
        "   - PyTorch memungkinkan definisi model secara dinamis menggunakan kelas Python.\n",
        "   - Modul `torch.nn` menyediakan berbagai lapisan (layers) dan fungsi aktivasi yang digunakan untuk membangun model neural network.\n",
        "\n",
        "4. **Optimizers:**\n",
        "   - PyTorch menyediakan berbagai algoritma optimasi dalam modul `torch.optim` seperti SGD (Stochastic Gradient Descent), Adam, dan lain-lain. Optimizers ini digunakan untuk mengoptimalkan parameter model selama pelatihan.\n",
        "\n",
        "5. **Dataset dan DataLoader:**\n",
        "   - Modul `torch.utils.data` menyediakan fasilitas untuk memuat dan mengelola data dengan mudah.\n",
        "   - DataLoader memudahkan dalam mengatur dan membagi data menjadi batch-batch untuk pelatihan model.\n",
        "\n",
        "6. **Training Loop:**\n",
        "   - Pelatihan model dalam PyTorch melibatkan iterasi melalui dataset, menghitung gradien, dan memperbarui parameter model.\n",
        "   - PyTorch menyediakan struktur yang intuitif untuk membuat loop pelatihan dengan menggunakan autograd untuk perhitungan gradien.\n",
        "\n",
        "7. **GPU Acceleration:**\n",
        "   - PyTorch mendukung pelatihan model pada GPU, yang dapat signifikan meningkatkan kecepatan pelatihan, terutama untuk model yang kompleks.\n",
        "\n",
        "8. **PyTorch Hub:**\n",
        "   - PyTorch Hub adalah repositori model yang dapat digunakan untuk berbagi, menemukan, dan menggunakan pre-trained model PyTorch.\n",
        "\n",
        "9. **Ecosystem:**\n",
        "   - PyTorch memiliki ekosistem yang aktif dan mendukung berbagai proyek dan komunitas, termasuk dukungan komprehensif dari industri dan riset.\n",
        "\n",
        "Dengan memahami konsep-konsep dasar tersebut, pengguna dapat membangun, melatih, dan menerapkan model machine learning dengan PyTorch secara efektif."
      ],
      "metadata": {
        "id": "XJ_Gh00hmeeY"
      }
    },
    {
      "cell_type": "code",
      "source": [
        "import torch\n",
        "torch.__version__"
      ],
      "metadata": {
        "colab": {
          "base_uri": "https://localhost:8080/",
          "height": 35
        },
        "id": "B0QS75uo97x0",
        "outputId": "02236cec-4531-4730-b57b-0fd5d1b09a99"
      },
      "execution_count": 40,
      "outputs": [
        {
          "output_type": "execute_result",
          "data": {
            "text/plain": [
              "'2.1.0+cu121'"
            ],
            "application/vnd.google.colaboratory.intrinsic+json": {
              "type": "string"
            }
          },
          "metadata": {},
          "execution_count": 40
        }
      ]
    },
    {
      "cell_type": "markdown",
      "source": [
        "Kode di atas adalah kode Python yang menggunakan library PyTorch untuk machine learning. Kode tersebut berfungsi untuk menampilkan versi PyTorch yang sedang digunakan. Mari kita bahas lebih detail:\n",
        "\n",
        "```python\n",
        "import torch\n",
        "```\n",
        "\n",
        "Baris ini mengimpor modul `torch` dari PyTorch. PyTorch adalah sebuah library open-source untuk komputasi numerik yang mendukung pembelajaran mesin dan jaringan neural.\n",
        "\n",
        "```python\n",
        "torch.__version__\n",
        "```\n",
        "\n",
        "Baris ini mencetak versi PyTorch yang sedang digunakan. Operator `__version__` digunakan untuk mengakses atribut versi dari objek `torch`. Ketika kode dijalankan, ini akan mencetak versi PyTorch yang terinstal.\n",
        "\n",
        "Jadi, secara keseluruhan, kode tersebut hanya digunakan untuk menunjukkan versi PyTorch yang sedang digunakan pada lingkungan Python yang terkait. Jika Anda menjalankan kode ini, Anda akan melihat versi PyTorch yang tercetak sebagai outputnya."
      ],
      "metadata": {
        "id": "wIXWSUiYmT9Z"
      }
    },
    {
      "cell_type": "code",
      "source": [
        "# Scalar\n",
        "scalar = torch.tensor(7)\n",
        "scalar"
      ],
      "metadata": {
        "colab": {
          "base_uri": "https://localhost:8080/"
        },
        "id": "yR6NYtsn-BR8",
        "outputId": "1055e0f1-98cf-4a6d-ce58-3908efb771f2"
      },
      "execution_count": 41,
      "outputs": [
        {
          "output_type": "execute_result",
          "data": {
            "text/plain": [
              "tensor(7)"
            ]
          },
          "metadata": {},
          "execution_count": 41
        }
      ]
    },
    {
      "cell_type": "markdown",
      "source": [
        "Dalam kode yang diberikan, Anda membuat sebuah skalar menggunakan PyTorch. Sebuah skalar adalah tensor dengan rank 0, yang berarti ia tidak memiliki dimensi. Dalam hal ini, nilai skalar tersebut adalah 7. Mari kita jelaskan baris-baris kode tersebut:\n",
        "\n",
        "```python\n",
        "# Scalar\n",
        "scalar = torch.tensor(7)\n",
        "```\n",
        "\n",
        "- `torch.tensor(7)`: Membuat tensor PyTorch dengan nilai 7. Karena tidak ada dimensi yang disertakan, ini adalah skalar atau tensor dengan rank 0.\n",
        "  \n",
        "```python\n",
        "scalar\n",
        "```\n",
        "\n",
        "- Baris ini sebenarnya mencetak atau mengembalikan nilai skalar yang telah dibuat. Jika Anda mengeksekusi baris ini, Anda akan melihat output yang menampilkan nilai skalar, yaitu `tensor(7)`.\n",
        "\n",
        "Jadi, secara keseluruhan, kode tersebut menciptakan sebuah skalar dengan nilai 7 menggunakan PyTorch. Skalar ini dapat digunakan dalam berbagai operasi tensor dan merupakan contoh paling sederhana dari struktur data tensor yang disediakan oleh PyTorch."
      ],
      "metadata": {
        "id": "oc0v4HKRm5VH"
      }
    },
    {
      "cell_type": "code",
      "source": [
        "scalar.ndim"
      ],
      "metadata": {
        "colab": {
          "base_uri": "https://localhost:8080/"
        },
        "id": "KTmKIaF_-Dbe",
        "outputId": "8a5b982f-3bb1-4735-d3fb-98e1522dccdd"
      },
      "execution_count": 42,
      "outputs": [
        {
          "output_type": "execute_result",
          "data": {
            "text/plain": [
              "0"
            ]
          },
          "metadata": {},
          "execution_count": 42
        }
      ]
    },
    {
      "cell_type": "markdown",
      "source": [
        "Kode `scalar.ndim` tidak akan berfungsi secara langsung untuk skalar tersebut. Hal ini disebabkan oleh fakta bahwa skalar (tensor dengan rank 0) tidak memiliki dimensi (dimensi = 0), sehingga pemanggilan atribut `ndim` (yang umumnya digunakan untuk mendapatkan jumlah dimensi) pada skalar tidak valid.\n",
        "\n",
        "Jika Anda mencoba menjalankan `scalar.ndim`, Anda akan mungkin menghadapi AttributeError, karena skalar tidak memiliki atribut `ndim`.\n",
        "\n",
        "Sebagai alternatif, Anda dapat menggunakan `scalar.dim()` untuk mendapatkan jumlah dimensi. Namun, seperti yang telah disebutkan sebelumnya, untuk skalar, nilai ini akan selalu 0, karena skalar tidak memiliki dimensi.\n",
        "\n",
        "Contoh penggunaan:\n",
        "\n",
        "```python\n",
        "scalar.dim()  # Output: 0\n",
        "```"
      ],
      "metadata": {
        "id": "xLWpAfr4nAIT"
      }
    },
    {
      "cell_type": "code",
      "source": [
        "# Get the Python number within a tensor (only works with one-element tensors)\n",
        "scalar.item()"
      ],
      "metadata": {
        "colab": {
          "base_uri": "https://localhost:8080/"
        },
        "id": "Rl_pD9ks-E5_",
        "outputId": "9a94f483-bbc7-49c3-b293-89c8353f7043"
      },
      "execution_count": 43,
      "outputs": [
        {
          "output_type": "execute_result",
          "data": {
            "text/plain": [
              "7"
            ]
          },
          "metadata": {},
          "execution_count": 43
        }
      ]
    },
    {
      "cell_type": "markdown",
      "source": [
        "Kode `scalar.item()` digunakan untuk mendapatkan nilai Python dari dalam sebuah tensor. Namun, perlu diingat bahwa ini hanya berfungsi jika tensor tersebut hanya memiliki satu elemen.\n",
        "\n",
        "Dalam kasus skalar (tensor dengan rank 0), ini pasti akan berfungsi, karena skalar hanya memiliki satu elemen. Jika tensor memiliki lebih dari satu elemen, pemanggilan `item()` akan menyebabkan `ValueError`.\n",
        "\n",
        "Contoh penggunaan:\n",
        "\n",
        "```python\n",
        "# scalar is a tensor with a single element (rank 0)\n",
        "scalar_value = scalar.item()\n",
        "print(scalar_value)  # Output: 7\n",
        "```\n",
        "\n",
        "Namun, jika Anda memiliki tensor dengan lebih dari satu elemen, Anda harus berhati-hati saat menggunakan `item()`, dan pastikan bahwa tensor tersebut benar-benar hanya memiliki satu elemen untuk menghindari kesalahan runtime."
      ],
      "metadata": {
        "id": "e7I74nSKnHct"
      }
    },
    {
      "cell_type": "code",
      "source": [
        "# Vector\n",
        "vector = torch.tensor([7, 7])\n",
        "vector"
      ],
      "metadata": {
        "colab": {
          "base_uri": "https://localhost:8080/"
        },
        "id": "1gvZRP6n-Gvx",
        "outputId": "c52b5012-49be-439d-dbfd-84a79fdaa9da"
      },
      "execution_count": 44,
      "outputs": [
        {
          "output_type": "execute_result",
          "data": {
            "text/plain": [
              "tensor([7, 7])"
            ]
          },
          "metadata": {},
          "execution_count": 44
        }
      ]
    },
    {
      "cell_type": "markdown",
      "source": [
        "Dalam kode di atas, Anda membuat sebuah vektor menggunakan PyTorch. Vektor adalah tensor dengan rank 1, yang berarti memiliki satu dimensi. Dalam hal ini, vektor tersebut memiliki dua elemen, yaitu 7 dan 7. Mari kita jelaskan baris-baris kode tersebut:\n",
        "\n",
        "```python\n",
        "# Vector\n",
        "vector = torch.tensor([7, 7])\n",
        "```\n",
        "\n",
        "- `torch.tensor([7, 7])`: Membuat tensor PyTorch yang merupakan vektor dengan dua elemen, yaitu 7 dan 7.\n",
        "\n",
        "```python\n",
        "vector\n",
        "```\n",
        "\n",
        "- Baris ini mencetak atau mengembalikan nilai vektor yang telah dibuat. Jika Anda mengeksekusi baris ini, Anda akan melihat output yang menampilkan nilai vektor, yaitu `tensor([7, 7])`.\n",
        "\n",
        "Jadi, secara keseluruhan, kode tersebut menciptakan sebuah vektor dengan dua elemen (7 dan 7) menggunakan PyTorch. Vektor ini dapat digunakan dalam berbagai operasi tensor dan merupakan contoh dari tensor dengan rank 1."
      ],
      "metadata": {
        "id": "q_txJWivnPnT"
      }
    },
    {
      "cell_type": "code",
      "source": [
        "# Check the number of dimensions of vector\n",
        "vector.ndim"
      ],
      "metadata": {
        "colab": {
          "base_uri": "https://localhost:8080/"
        },
        "id": "2QotSXJT-Itf",
        "outputId": "0d107bcc-2374-4fb2-82a4-8b2ea7d75f1e"
      },
      "execution_count": 45,
      "outputs": [
        {
          "output_type": "execute_result",
          "data": {
            "text/plain": [
              "1"
            ]
          },
          "metadata": {},
          "execution_count": 45
        }
      ]
    },
    {
      "cell_type": "markdown",
      "source": [
        "\n",
        "`vector.ndim` pada PyTorch tidak memberikan hasil yang sesuai dengan konvensi umum untuk jumlah dimensi. Pada umumnya, ini mungkin mengembalikan `1`, tetapi sebenarnya, vektor dianggap sebagai tensor satu dimensi dalam PyTorch. Untuk mendapatkan panjang (jumlah elemen) dari vektor, Anda dapat menggunakan `len(vector)` atau `vector.size(0)`."
      ],
      "metadata": {
        "id": "wQsWIsdlnZVp"
      }
    },
    {
      "cell_type": "code",
      "source": [
        "# Check shape of vector\n",
        "vector.shape"
      ],
      "metadata": {
        "colab": {
          "base_uri": "https://localhost:8080/"
        },
        "id": "MejZyXux-Kq9",
        "outputId": "7f76de18-95bc-400d-86c3-19e928adf432"
      },
      "execution_count": 46,
      "outputs": [
        {
          "output_type": "execute_result",
          "data": {
            "text/plain": [
              "torch.Size([2])"
            ]
          },
          "metadata": {},
          "execution_count": 46
        }
      ]
    },
    {
      "cell_type": "markdown",
      "source": [
        "Anda dapat menggunakan atribut `shape` untuk memeriksa dimensi dari sebuah tensor dalam PyTorch, termasuk vektor. Mari kita lihat contohnya:\n",
        "\n",
        "```python\n",
        "# Check the shape of the vector\n",
        "vector.shape\n",
        "```\n",
        "\n",
        "Hasil dari `vector.shape` akan memberikan tuple yang menyatakan panjang atau ukuran dari setiap dimensi. Untuk vektor (tensor 1D), tuple tersebut akan berisi satu elemen yang merupakan panjang dari vektor.\n",
        "\n",
        "Sebagai contoh, jika `vector` adalah sebuah vektor dengan panjang 2, maka `vector.shape` akan mengembalikan `(2,)`.\n",
        "\n",
        "Jadi, output dari `vector.shape` akan memberikan informasi tentang ukuran atau panjang vektor tersebut."
      ],
      "metadata": {
        "id": "YOSZiUWknizm"
      }
    },
    {
      "cell_type": "code",
      "source": [
        "# Matrix\n",
        "MATRIX = torch.tensor([[7, 8],\n",
        "                       [9, 10]])\n",
        "MATRIX"
      ],
      "metadata": {
        "colab": {
          "base_uri": "https://localhost:8080/"
        },
        "id": "KjiXQJ1D-MUE",
        "outputId": "b0da6277-7618-48dd-fc00-a56ae4149246"
      },
      "execution_count": 47,
      "outputs": [
        {
          "output_type": "execute_result",
          "data": {
            "text/plain": [
              "tensor([[ 7,  8],\n",
              "        [ 9, 10]])"
            ]
          },
          "metadata": {},
          "execution_count": 47
        }
      ]
    },
    {
      "cell_type": "markdown",
      "source": [
        "Dalam kode di atas, Anda membuat sebuah matriks menggunakan PyTorch. Matriks adalah tensor dengan rank 2, yang berarti memiliki dua dimensi (baris dan kolom). Dalam hal ini, matriks tersebut memiliki dua baris dan dua kolom, dengan elemen-elemen 7, 8, 9, dan 10. Mari kita jelaskan baris-baris kode tersebut:\n",
        "\n",
        "```python\n",
        "# Matrix\n",
        "MATRIX = torch.tensor([[7, 8],\n",
        "                       [9, 10]])\n",
        "```\n",
        "\n",
        "- `torch.tensor([[7, 8], [9, 10]])`: Membuat tensor PyTorch yang merupakan matriks dengan dua baris dan dua kolom, dengan elemen-elemen yang ditentukan dalam daftar bersarang.\n",
        "\n",
        "```python\n",
        "MATRIX\n",
        "```\n",
        "\n",
        "- Baris ini mencetak atau mengembalikan nilai matriks yang telah dibuat. Jika Anda mengeksekusi baris ini, Anda akan melihat output yang menampilkan nilai matriks, yaitu:\n",
        "\n",
        "```\n",
        "tensor([[ 7,  8],\n",
        "        [ 9, 10]])\n",
        "```\n",
        "\n",
        "Jadi, secara keseluruhan, kode tersebut menciptakan sebuah matriks 2x2 dengan elemen-elemen yang ditentukan menggunakan PyTorch. Matriks ini dapat digunakan dalam berbagai operasi tensor dan merupakan contoh dari tensor dengan rank 2."
      ],
      "metadata": {
        "id": "JBk6AOcKnyVT"
      }
    },
    {
      "cell_type": "code",
      "source": [
        "# Check number of dimensions\n",
        "MATRIX.ndim"
      ],
      "metadata": {
        "colab": {
          "base_uri": "https://localhost:8080/"
        },
        "id": "8-SeIccr-OwE",
        "outputId": "6d2cb356-957a-4f24-f025-3b939e890429"
      },
      "execution_count": 48,
      "outputs": [
        {
          "output_type": "execute_result",
          "data": {
            "text/plain": [
              "2"
            ]
          },
          "metadata": {},
          "execution_count": 48
        }
      ]
    },
    {
      "cell_type": "markdown",
      "source": [
        "Anda dapat menggunakan atribut `ndim` untuk mengetahui jumlah dimensi dari tensor, termasuk matriks. Mari kita lihat bagaimana Anda dapat menggunakannya pada matriks `MATRIX` yang telah Anda buat:\n",
        "\n",
        "```python\n",
        "# Check the number of dimensions of the matrix\n",
        "MATRIX.ndim\n",
        "```\n",
        "\n",
        "Hasil dari `MATRIX.ndim` akan memberikan jumlah dimensi dari matriks tersebut. Untuk matriks, yang memiliki dua dimensi (baris dan kolom), hasilnya seharusnya adalah `2`.\n",
        "\n",
        "Jadi, jika Anda mengeksekusi baris kode di atas, Anda akan mendapatkan output yang menyatakan jumlah dimensi dari matriks `MATRIX`."
      ],
      "metadata": {
        "id": "cVeXWBTyn6oi"
      }
    },
    {
      "cell_type": "code",
      "source": [
        "MATRIX.shape"
      ],
      "metadata": {
        "colab": {
          "base_uri": "https://localhost:8080/"
        },
        "id": "78Ze35yy-Q3e",
        "outputId": "456b063f-ac83-43fb-e80e-cd51ee907ba2"
      },
      "execution_count": 49,
      "outputs": [
        {
          "output_type": "execute_result",
          "data": {
            "text/plain": [
              "torch.Size([2, 2])"
            ]
          },
          "metadata": {},
          "execution_count": 49
        }
      ]
    },
    {
      "cell_type": "markdown",
      "source": [
        "Anda dapat menggunakan atribut `shape` untuk memeriksa dimensi dari sebuah tensor dalam PyTorch, termasuk matriks. Mari kita lihat bagaimana Anda dapat menggunakannya pada matriks `MATRIX`:\n",
        "\n",
        "```python\n",
        "# Check the shape of the matrix\n",
        "MATRIX.shape\n",
        "```\n",
        "\n",
        "Hasil dari `MATRIX.shape` akan memberikan tuple yang menyatakan panjang atau ukuran dari setiap dimensi. Untuk matriks, tuple tersebut akan berisi dua elemen yang mewakili jumlah baris dan jumlah kolom.\n",
        "\n",
        "Jadi, jika `MATRIX` adalah sebuah matriks 2x2, maka `MATRIX.shape` akan mengembalikan `(2, 2)`.\n",
        "\n",
        "Output dari `MATRIX.shape` memberikan informasi tentang ukuran atau panjang dari matriks dalam bentuk tuple yang menyatakan jumlah baris dan jumlah kolom."
      ],
      "metadata": {
        "id": "oAVNme5QoANC"
      }
    },
    {
      "cell_type": "code",
      "source": [
        "# Tensor\n",
        "TENSOR = torch.tensor([[[1, 2, 3],\n",
        "                        [3, 6, 9],\n",
        "                        [2, 4, 5]]])\n",
        "TENSOR"
      ],
      "metadata": {
        "colab": {
          "base_uri": "https://localhost:8080/"
        },
        "id": "4yct77Hq-TkS",
        "outputId": "68431596-4a9e-4cfa-caac-221c10f80123"
      },
      "execution_count": 50,
      "outputs": [
        {
          "output_type": "execute_result",
          "data": {
            "text/plain": [
              "tensor([[[1, 2, 3],\n",
              "         [3, 6, 9],\n",
              "         [2, 4, 5]]])"
            ]
          },
          "metadata": {},
          "execution_count": 50
        }
      ]
    },
    {
      "cell_type": "markdown",
      "source": [
        "Dalam kode di atas, Anda membuat sebuah tensor tiga dimensi menggunakan PyTorch. Tensor ini memiliki rank 3, yang berarti memiliki tiga dimensi: dalam hal ini, dimensi pertama memiliki panjang 1, dimensi kedua memiliki panjang 3, dan dimensi ketiga memiliki panjang 3. Mari kita jelaskan baris-baris kode tersebut:\n",
        "\n",
        "```python\n",
        "# Tensor\n",
        "TENSOR = torch.tensor([[[1, 2, 3],\n",
        "                        [3, 6, 9],\n",
        "                        [2, 4, 5]]])\n",
        "```\n",
        "\n",
        "- `torch.tensor([[[1, 2, 3], [3, 6, 9], [2, 4, 5]]])`: Membuat tensor PyTorch yang memiliki rank 3 dengan panjang 1 pada dimensi pertama, panjang 3 pada dimensi kedua, dan panjang 3 pada dimensi ketiga.\n",
        "\n",
        "```python\n",
        "TENSOR\n",
        "```\n",
        "\n",
        "- Baris ini mencetak atau mengembalikan nilai tensor yang telah dibuat. Jika Anda mengeksekusi baris ini, Anda akan melihat output yang menampilkan nilai tensor, yaitu:\n",
        "\n",
        "```\n",
        "tensor([[[1, 2, 3],\n",
        "         [3, 6, 9],\n",
        "         [2, 4, 5]]])\n",
        "```\n",
        "\n",
        "Jadi, secara keseluruhan, kode tersebut menciptakan sebuah tensor tiga dimensi dengan elemen-elemen yang ditentukan menggunakan PyTorch. Tensor ini dapat digunakan dalam berbagai operasi tensor dan merupakan contoh dari tensor dengan rank 3."
      ],
      "metadata": {
        "id": "G84GEgBOoHHB"
      }
    },
    {
      "cell_type": "code",
      "source": [
        "# Check number of dimensions for TENSOR\n",
        "TENSOR.ndim"
      ],
      "metadata": {
        "colab": {
          "base_uri": "https://localhost:8080/"
        },
        "id": "ITNSA5HK-WZz",
        "outputId": "2a3c7c23-1b1f-4dc2-8ba7-57a62e681c3c"
      },
      "execution_count": 51,
      "outputs": [
        {
          "output_type": "execute_result",
          "data": {
            "text/plain": [
              "3"
            ]
          },
          "metadata": {},
          "execution_count": 51
        }
      ]
    },
    {
      "cell_type": "code",
      "source": [
        "# Check shape of TENSOR\n",
        "TENSOR.shape"
      ],
      "metadata": {
        "colab": {
          "base_uri": "https://localhost:8080/"
        },
        "id": "qnDb32yi-bMz",
        "outputId": "2c69349a-d3bd-4fb7-993d-64b933c1ceea"
      },
      "execution_count": 52,
      "outputs": [
        {
          "output_type": "execute_result",
          "data": {
            "text/plain": [
              "torch.Size([1, 3, 3])"
            ]
          },
          "metadata": {},
          "execution_count": 52
        }
      ]
    },
    {
      "cell_type": "code",
      "source": [
        "# Create a random tensor of size (3, 4)\n",
        "random_tensor = torch.rand(size=(3, 4))\n",
        "random_tensor, random_tensor.dtype"
      ],
      "metadata": {
        "colab": {
          "base_uri": "https://localhost:8080/"
        },
        "id": "hhBL-X5n-c5k",
        "outputId": "688a014b-8fbd-4089-dab6-c2dc2301207b"
      },
      "execution_count": 53,
      "outputs": [
        {
          "output_type": "execute_result",
          "data": {
            "text/plain": [
              "(tensor([[0.4285, 0.4315, 0.1108, 0.4967],\n",
              "         [0.6154, 0.4833, 0.8958, 0.8124],\n",
              "         [0.3651, 0.9521, 0.1595, 0.8247]]),\n",
              " torch.float32)"
            ]
          },
          "metadata": {},
          "execution_count": 53
        }
      ]
    },
    {
      "cell_type": "markdown",
      "source": [
        "Dalam kode di atas, Anda membuat sebuah tensor acak menggunakan PyTorch. Berikut adalah penjelasan singkat:\n",
        "\n",
        "```python\n",
        "# Create a random tensor of size (3, 4)\n",
        "random_tensor = torch.rand(size=(3, 4))\n",
        "```\n",
        "\n",
        "- `torch.rand(size=(3, 4))`: Membuat tensor PyTorch dengan ukuran (shape) 3x4 yang berisi nilai-nilai acak antara 0 dan 1. Fungsi `torch.rand()` digunakan untuk menghasilkan nilai acak dari distribusi seragam.\n",
        "\n",
        "```python\n",
        "random_tensor\n",
        "```\n",
        "\n",
        "- Baris ini mencetak atau mengembalikan nilai tensor acak yang telah dibuat.\n",
        "\n",
        "```python\n",
        "random_tensor.dtype\n",
        "```\n",
        "\n",
        "- Baris ini mengembalikan tipe data (dtype) dari tensor tersebut. Tipe data tensor acak yang dihasilkan umumnya adalah float32.\n",
        "\n",
        "Jadi, secara keseluruhan, kode tersebut menciptakan sebuah tensor acak berukuran 3x4 dengan nilai-nilai acak antara 0 dan 1, dan kemudian menampilkan tensor tersebut beserta tipe datanya."
      ],
      "metadata": {
        "id": "gDi0iyycpHee"
      }
    },
    {
      "cell_type": "code",
      "source": [
        "# Create a random tensor of size (224, 224, 3)\n",
        "random_image_size_tensor = torch.rand(size=(224, 224, 3))\n",
        "random_image_size_tensor.shape, random_image_size_tensor.ndim"
      ],
      "metadata": {
        "colab": {
          "base_uri": "https://localhost:8080/"
        },
        "id": "w2E0z0Ks-f0I",
        "outputId": "391c2b37-af4b-4779-e277-7abb10f1575b"
      },
      "execution_count": 54,
      "outputs": [
        {
          "output_type": "execute_result",
          "data": {
            "text/plain": [
              "(torch.Size([224, 224, 3]), 3)"
            ]
          },
          "metadata": {},
          "execution_count": 54
        }
      ]
    },
    {
      "cell_type": "markdown",
      "source": [
        "Dalam kode di atas, Anda mencoba membuat tensor acak dengan ukuran (224, 224, 3). Namun, perlu dicatat bahwa PyTorch tidak langsung mendukung pembuatan tensor tiga dimensi dengan bentuk seperti itu. PyTorch lebih umum digunakan untuk tensor dengan dua atau lebih dimensi, sementara tensor tiga dimensi biasanya digunakan untuk merepresentasikan citra dengan dimensi (tinggi, lebar, saluran).\n",
        "\n",
        "Anda mungkin ingin membuat tensor berukuran (224, 224, 3) sebagai tensor citra dengan dimensi tinggi, lebar, dan saluran warna (RGB). Dalam kasus ini, Anda bisa membuat tensor berukuran (3, 224, 224) atau (224, 224, 3), tergantung pada preferensi urutan dimensi saluran warna.\n",
        "\n",
        "Berikut contoh untuk membuat tensor dengan dimensi (3, 224, 224):\n",
        "\n",
        "```python\n",
        "# Create a random image-sized tensor with channels last (224, 224, 3)\n",
        "random_image_size_tensor_channels_last = torch.rand(size=(3, 224, 224))\n",
        "```\n",
        "\n",
        "Atau, jika Anda ingin menggunakan urutan dimensi (224, 224, 3):\n",
        "\n",
        "```python\n",
        "# Create a random image-sized tensor with channels first (3, 224, 224)\n",
        "random_image_size_tensor_channels_first = torch.rand(size=(224, 224, 3)).permute(2, 0, 1)\n",
        "```\n",
        "\n",
        "Dengan cara ini, Anda dapat membuat tensor yang lebih sesuai dengan representasi citra RGB."
      ],
      "metadata": {
        "id": "rZq04XAtpKGF"
      }
    },
    {
      "cell_type": "code",
      "source": [
        "# Create a tensor of all zeros\n",
        "zeros = torch.zeros(size=(3, 4))\n",
        "zeros, zeros.dtype"
      ],
      "metadata": {
        "colab": {
          "base_uri": "https://localhost:8080/"
        },
        "id": "6niRkiHV-hY0",
        "outputId": "f6ef2993-38f6-46bc-c0c8-086c26486022"
      },
      "execution_count": 55,
      "outputs": [
        {
          "output_type": "execute_result",
          "data": {
            "text/plain": [
              "(tensor([[0., 0., 0., 0.],\n",
              "         [0., 0., 0., 0.],\n",
              "         [0., 0., 0., 0.]]),\n",
              " torch.float32)"
            ]
          },
          "metadata": {},
          "execution_count": 55
        }
      ]
    },
    {
      "cell_type": "markdown",
      "source": [
        "Dalam kode di atas, Anda membuat tensor berisi semua nilai nol menggunakan PyTorch. Berikut adalah penjelasan singkat:\n",
        "\n",
        "```python\n",
        "# Create a tensor of all zeros\n",
        "zeros = torch.zeros(size=(3, 4))\n",
        "```\n",
        "\n",
        "- `torch.zeros(size=(3, 4))`: Membuat tensor PyTorch berukuran 3x4 yang diisi dengan nilai nol.\n",
        "\n",
        "```python\n",
        "zeros\n",
        "```\n",
        "\n",
        "- Baris ini mencetak atau mengembalikan nilai tensor yang telah dibuat.\n",
        "\n",
        "```python\n",
        "zeros.dtype\n",
        "```\n",
        "\n",
        "- Baris ini mengembalikan tipe data (dtype) dari tensor tersebut. Secara default, tensor berisi nol akan memiliki tipe data float32.\n",
        "\n",
        "Jadi, secara keseluruhan, kode tersebut menciptakan sebuah tensor berukuran 3x4 yang berisi semua nilai nol menggunakan PyTorch, dan kemudian menampilkan tensor tersebut beserta tipe datanya."
      ],
      "metadata": {
        "id": "53fi26ZDpYHh"
      }
    },
    {
      "cell_type": "code",
      "source": [
        "# Create a tensor of all ones\n",
        "ones = torch.ones(size=(3, 4))\n",
        "ones, ones.dtype"
      ],
      "metadata": {
        "colab": {
          "base_uri": "https://localhost:8080/"
        },
        "id": "-zcGJFC0-mJy",
        "outputId": "b7e83d39-12d2-4946-a7f1-fab2bcbc29ac"
      },
      "execution_count": 56,
      "outputs": [
        {
          "output_type": "execute_result",
          "data": {
            "text/plain": [
              "(tensor([[1., 1., 1., 1.],\n",
              "         [1., 1., 1., 1.],\n",
              "         [1., 1., 1., 1.]]),\n",
              " torch.float32)"
            ]
          },
          "metadata": {},
          "execution_count": 56
        }
      ]
    },
    {
      "cell_type": "markdown",
      "source": [
        "Dalam kode di atas, Anda membuat tensor berisi semua nilai satu menggunakan PyTorch. Berikut adalah penjelasan singkat:\n",
        "\n",
        "```python\n",
        "# Create a tensor of all ones\n",
        "ones = torch.ones(size=(3, 4))\n",
        "```\n",
        "\n",
        "- `torch.ones(size=(3, 4))`: Membuat tensor PyTorch berukuran 3x4 yang diisi dengan nilai satu.\n",
        "\n",
        "```python\n",
        "ones\n",
        "```\n",
        "\n",
        "- Baris ini mencetak atau mengembalikan nilai tensor yang telah dibuat.\n",
        "\n",
        "```python\n",
        "ones.dtype\n",
        "```\n",
        "\n",
        "- Baris ini mengembalikan tipe data (dtype) dari tensor tersebut. Secara default, tensor berisi nilai satu akan memiliki tipe data float32.\n",
        "\n",
        "Jadi, secara keseluruhan, kode tersebut menciptakan sebuah tensor berukuran 3x4 yang berisi semua nilai satu menggunakan PyTorch, dan kemudian menampilkan tensor tersebut beserta tipe datanya."
      ],
      "metadata": {
        "id": "7fmOitydpdS7"
      }
    },
    {
      "cell_type": "code",
      "source": [
        "# Use torch.arange(), torch.range() is deprecated\n",
        "zero_to_ten_deprecated = torch.range(0, 10) # Note: this may return an error in the future\n",
        "\n",
        "# Create a range of values 0 to 10\n",
        "zero_to_ten = torch.arange(start=0, end=10, step=1)\n",
        "zero_to_ten"
      ],
      "metadata": {
        "colab": {
          "base_uri": "https://localhost:8080/"
        },
        "id": "nCKxgMGL-nsr",
        "outputId": "83ebe3de-5615-488d-8664-245c3775bc4d"
      },
      "execution_count": 57,
      "outputs": [
        {
          "output_type": "stream",
          "name": "stderr",
          "text": [
            "<ipython-input-57-a09072c806d9>:2: UserWarning: torch.range is deprecated and will be removed in a future release because its behavior is inconsistent with Python's range builtin. Instead, use torch.arange, which produces values in [start, end).\n",
            "  zero_to_ten_deprecated = torch.range(0, 10) # Note: this may return an error in the future\n"
          ]
        },
        {
          "output_type": "execute_result",
          "data": {
            "text/plain": [
              "tensor([0, 1, 2, 3, 4, 5, 6, 7, 8, 9])"
            ]
          },
          "metadata": {},
          "execution_count": 57
        }
      ]
    },
    {
      "cell_type": "markdown",
      "source": [
        "Dalam kode di atas, Anda menggunakan fungsi `torch.arange()` untuk membuat tensor yang berisi rentang nilai dari 0 hingga 10. Penting untuk dicatat bahwa `torch.range()` sudah tidak direkomendasikan (deprecated), dan sebaiknya menggunakan `torch.arange()`.\n",
        "\n",
        "Berikut adalah penjelasan singkat:\n",
        "\n",
        "```python\n",
        "# Use torch.arange(), torch.range() is deprecated\n",
        "zero_to_ten_deprecated = torch.range(0, 10)  # Note: Deprecated, may return an error in the future\n",
        "\n",
        "# Create a range of values 0 to 10 using torch.arange()\n",
        "zero_to_ten = torch.arange(start=0, end=10, step=1)\n",
        "```\n",
        "\n",
        "- `torch.arange(start=0, end=10, step=1)`: Membuat tensor PyTorch yang berisi rentang nilai dari 0 hingga 10 (tidak termasuk 10) dengan langkah sebesar 1.\n",
        "\n",
        "```python\n",
        "zero_to_ten\n",
        "```\n",
        "\n",
        "- Baris ini mencetak atau mengembalikan nilai tensor yang telah dibuat.\n",
        "\n",
        "Jadi, secara keseluruhan, kode tersebut menciptakan sebuah tensor yang berisi rentang nilai dari 0 hingga 9 menggunakan `torch.arange()`, menggantikan penggunaan `torch.range()` yang sudah tidak direkomendasikan."
      ],
      "metadata": {
        "id": "gqsmN_KjrFCz"
      }
    },
    {
      "cell_type": "code",
      "source": [
        "# Can also create a tensor of zeros similar to another tensor\n",
        "ten_zeros = torch.zeros_like(input=zero_to_ten) # will have same shape\n",
        "ten_zeros"
      ],
      "metadata": {
        "colab": {
          "base_uri": "https://localhost:8080/"
        },
        "id": "G15LDsZF-ppn",
        "outputId": "b57f389e-355a-42ee-b365-c7d3eafb8bf4"
      },
      "execution_count": 58,
      "outputs": [
        {
          "output_type": "execute_result",
          "data": {
            "text/plain": [
              "tensor([0, 0, 0, 0, 0, 0, 0, 0, 0, 0])"
            ]
          },
          "metadata": {},
          "execution_count": 58
        }
      ]
    },
    {
      "cell_type": "code",
      "source": [
        "# Default datatype for tensors is float32\n",
        "float_32_tensor = torch.tensor([3.0, 6.0, 9.0],\n",
        "                               dtype=None, # defaults to None, which is torch.float32 or whatever datatype is passed\n",
        "                               device=None, # defaults to None, which uses the default tensor type\n",
        "                               requires_grad=False) # if True, operations performed on the tensor are recorded\n",
        "\n",
        "float_32_tensor.shape, float_32_tensor.dtype, float_32_tensor.device"
      ],
      "metadata": {
        "colab": {
          "base_uri": "https://localhost:8080/"
        },
        "id": "zNF2D66E-sRw",
        "outputId": "d8126cc6-d8b0-40f6-d94c-b014092cb52f"
      },
      "execution_count": 59,
      "outputs": [
        {
          "output_type": "execute_result",
          "data": {
            "text/plain": [
              "(torch.Size([3]), torch.float32, device(type='cpu'))"
            ]
          },
          "metadata": {},
          "execution_count": 59
        }
      ]
    },
    {
      "cell_type": "markdown",
      "source": [
        "Dalam kode di atas, Anda membuat tensor dengan tipe data default `float32` menggunakan PyTorch. Berikut adalah penjelasan singkat:\n",
        "\n",
        "```python\n",
        "# Default datatype for tensors is float32\n",
        "float_32_tensor = torch.tensor([3.0, 6.0, 9.0],\n",
        "                               dtype=None,           # defaults to None, which is torch.float32 or whatever datatype is passed\n",
        "                               device=None,          # defaults to None, which uses the default tensor type\n",
        "                               requires_grad=False)  # if True, operations performed on the tensor are recorded\n",
        "```\n",
        "\n",
        "- `torch.tensor([3.0, 6.0, 9.0], dtype=None, device=None, requires_grad=False)`: Membuat tensor PyTorch dari list yang diberikan. Tipe data (dtype) secara default akan menjadi `float32` jika tidak ditentukan secara eksplisit.\n",
        "\n",
        "```python\n",
        "float_32_tensor.shape\n",
        "```\n",
        "\n",
        "- Baris ini mengembalikan bentuk (shape) dari tensor.\n",
        "\n",
        "```python\n",
        "float_32_tensor.dtype\n",
        "```\n",
        "\n",
        "- Baris ini mengembalikan tipe data (dtype) dari tensor. Secara default, tipe data tensor akan menjadi `float32`.\n",
        "\n",
        "```python\n",
        "float_32_tensor.device\n",
        "```\n",
        "\n",
        "- Baris ini mengembalikan perangkat (device) tempat tensor berada. Jika tidak ditentukan secara eksplisit, ini akan menggunakan perangkat default.\n",
        "\n",
        "Jadi, secara keseluruhan, kode tersebut menciptakan sebuah tensor dengan tipe data default `float32`, bentuk (shape) yang sesuai dengan list yang diberikan, dan tanpa merekam gradien (`requires_grad=False`)."
      ],
      "metadata": {
        "id": "FiWn4DJLrK8q"
      }
    },
    {
      "cell_type": "code",
      "source": [
        "float_16_tensor = torch.tensor([3.0, 6.0, 9.0],\n",
        "                               dtype=torch.float16) # torch.half would also work\n",
        "\n",
        "float_16_tensor.dtype"
      ],
      "metadata": {
        "colab": {
          "base_uri": "https://localhost:8080/"
        },
        "id": "Nt9Hkvin-v_g",
        "outputId": "99212692-0efd-417b-fd8d-888a8ec7a109"
      },
      "execution_count": 60,
      "outputs": [
        {
          "output_type": "execute_result",
          "data": {
            "text/plain": [
              "torch.float16"
            ]
          },
          "metadata": {},
          "execution_count": 60
        }
      ]
    },
    {
      "cell_type": "markdown",
      "source": [
        "Dalam kode di atas, Anda membuat tensor dengan tipe data `float16` menggunakan PyTorch. Berikut adalah penjelasan singkat:\n",
        "\n",
        "```python\n",
        "float_16_tensor = torch.tensor([3.0, 6.0, 9.0],\n",
        "                               dtype=torch.float16)  # torch.half would also work\n",
        "```\n",
        "\n",
        "- `torch.tensor([3.0, 6.0, 9.0], dtype=torch.float16)`: Membuat tensor PyTorch dari list yang diberikan dengan menentukan tipe data (dtype) secara eksplisit sebagai `float16`. Anda juga dapat menggunakan `torch.half` sebagai alternatif untuk menyatakan tipe data `float16`.\n",
        "\n",
        "```python\n",
        "float_16_tensor.dtype\n",
        "```\n",
        "\n",
        "- Baris ini mengembalikan tipe data (dtype) dari tensor. Dalam hal ini, tipe data tensor adalah `float16`.\n",
        "\n",
        "Jadi, secara keseluruhan, kode tersebut menciptakan sebuah tensor dengan tipe data `float16`, yang merupakan representasi floating-point dengan setengah presisi, dan kemudian menampilkan tipe datanya."
      ],
      "metadata": {
        "id": "OaXOx4ojrRJw"
      }
    },
    {
      "cell_type": "code",
      "source": [
        "# Create a tensor\n",
        "some_tensor = torch.rand(3, 4)\n",
        "\n",
        "# Find out details about it\n",
        "print(some_tensor)\n",
        "print(f\"Shape of tensor: {some_tensor.shape}\")\n",
        "print(f\"Datatype of tensor: {some_tensor.dtype}\")\n",
        "print(f\"Device tensor is stored on: {some_tensor.device}\") # will default to CPU"
      ],
      "metadata": {
        "colab": {
          "base_uri": "https://localhost:8080/"
        },
        "id": "OTH41gTJ-xzZ",
        "outputId": "86c66f6e-804e-4b97-c9d3-7a4020f0054d"
      },
      "execution_count": 61,
      "outputs": [
        {
          "output_type": "stream",
          "name": "stdout",
          "text": [
            "tensor([[0.6274, 0.5078, 0.5410, 0.1678],\n",
            "        [0.3528, 0.5445, 0.1425, 0.8973],\n",
            "        [0.0815, 0.5017, 0.1450, 0.3772]])\n",
            "Shape of tensor: torch.Size([3, 4])\n",
            "Datatype of tensor: torch.float32\n",
            "Device tensor is stored on: cpu\n"
          ]
        }
      ]
    },
    {
      "cell_type": "markdown",
      "source": [
        "Dalam kode di atas, Anda membuat sebuah tensor acak menggunakan PyTorch dan menampilkan beberapa informasi detail tentang tensor tersebut. Berikut adalah penjelasan singkat:\n",
        "\n",
        "```python\n",
        "# Create a tensor\n",
        "some_tensor = torch.rand(3, 4)\n",
        "```\n",
        "\n",
        "- `torch.rand(3, 4)`: Membuat tensor PyTorch berukuran 3x4 yang diisi dengan nilai acak antara 0 dan 1.\n",
        "\n",
        "```python\n",
        "# Find out details about it\n",
        "print(some_tensor)\n",
        "```\n",
        "\n",
        "- Baris ini mencetak nilai tensor yang telah dibuat.\n",
        "\n",
        "```python\n",
        "print(f\"Shape of tensor: {some_tensor.shape}\")\n",
        "```\n",
        "\n",
        "- Baris ini mencetak atau menampilkan bentuk (shape) dari tensor, yaitu 3 baris dan 4 kolom.\n",
        "\n",
        "```python\n",
        "print(f\"Datatype of tensor: {some_tensor.dtype}\")\n",
        "```\n",
        "\n",
        "- Baris ini mencetak atau menampilkan tipe data (dtype) dari tensor. Secara default, tensor acak seperti ini akan memiliki tipe data `float32`.\n",
        "\n",
        "```python\n",
        "print(f\"Device tensor is stored on: {some_tensor.device}\")  # will default to CPU\n",
        "```\n",
        "\n",
        "- Baris ini mencetak atau menampilkan perangkat (device) tempat tensor disimpan. Jika tidak ditentukan secara eksplisit, ini akan menggunakan perangkat default, yang dalam kasus ini adalah CPU.\n",
        "\n",
        "Jadi, secara keseluruhan, kode tersebut menciptakan sebuah tensor acak, dan kemudian menampilkan beberapa detail tentang tensor tersebut, seperti nilai, bentuk, tipe data, dan perangkat penyimpanan."
      ],
      "metadata": {
        "id": "Cuj0gsfJsn6z"
      }
    },
    {
      "cell_type": "code",
      "source": [
        "# Create a tensor of values and add a number to it\n",
        "tensor = torch.tensor([1, 2, 3])\n",
        "tensor + 10"
      ],
      "metadata": {
        "colab": {
          "base_uri": "https://localhost:8080/"
        },
        "id": "l1ufo0-R-0Ew",
        "outputId": "7495455f-49f3-4a29-b72c-572eecbd2e5c"
      },
      "execution_count": 62,
      "outputs": [
        {
          "output_type": "execute_result",
          "data": {
            "text/plain": [
              "tensor([11, 12, 13])"
            ]
          },
          "metadata": {},
          "execution_count": 62
        }
      ]
    },
    {
      "cell_type": "markdown",
      "source": [
        "Dalam kode di atas, Anda membuat sebuah tensor dengan nilai `[1, 2, 3]` menggunakan PyTorch, dan kemudian menambahkan angka 10 ke setiap elemennya. Berikut adalah penjelasan singkat:\n",
        "\n",
        "```python\n",
        "# Create a tensor of values\n",
        "tensor = torch.tensor([1, 2, 3])\n",
        "```\n",
        "\n",
        "- `torch.tensor([1, 2, 3])`: Membuat tensor PyTorch dari list yang diberikan, yaitu tensor dengan elemen `[1, 2, 3]`.\n",
        "\n",
        "```python\n",
        "tensor + 10\n",
        "```\n",
        "\n",
        "- Baris ini menambahkan angka 10 ke setiap elemen tensor menggunakan operator penambahan (`+`). Hasilnya adalah tensor baru dengan nilai `[11, 12, 13]`, dan tensor asli tidak berubah.\n",
        "\n",
        "Jadi, secara keseluruhan, kode tersebut menciptakan sebuah tensor dengan nilai awal `[1, 2, 3]` dan kemudian menambahkan angka 10 ke setiap elemennya, menghasilkan tensor baru dengan nilai `[11, 12, 13]`."
      ],
      "metadata": {
        "id": "scKs0mdMsyck"
      }
    },
    {
      "cell_type": "code",
      "source": [
        "# Multiply it by 10\n",
        "tensor * 10"
      ],
      "metadata": {
        "colab": {
          "base_uri": "https://localhost:8080/"
        },
        "id": "FRQ2M53z-2uw",
        "outputId": "5294fe9f-7cae-4d63-c6d3-6618a367ef3b"
      },
      "execution_count": 63,
      "outputs": [
        {
          "output_type": "execute_result",
          "data": {
            "text/plain": [
              "tensor([10, 20, 30])"
            ]
          },
          "metadata": {},
          "execution_count": 63
        }
      ]
    },
    {
      "cell_type": "code",
      "source": [
        "# Tensors don't change unless reassigned\n",
        "tensor"
      ],
      "metadata": {
        "colab": {
          "base_uri": "https://localhost:8080/"
        },
        "id": "9qUQMNlp-4Px",
        "outputId": "00005a72-8112-4cc9-e208-b10006abc30c"
      },
      "execution_count": 64,
      "outputs": [
        {
          "output_type": "execute_result",
          "data": {
            "text/plain": [
              "tensor([1, 2, 3])"
            ]
          },
          "metadata": {},
          "execution_count": 64
        }
      ]
    },
    {
      "cell_type": "code",
      "source": [
        "# Subtract and reassign\n",
        "tensor = tensor - 10\n",
        "tensor"
      ],
      "metadata": {
        "colab": {
          "base_uri": "https://localhost:8080/"
        },
        "id": "YWTq6y_g-6TF",
        "outputId": "ad10313f-c72a-4462-f5fc-c427fbe3b32d"
      },
      "execution_count": 65,
      "outputs": [
        {
          "output_type": "execute_result",
          "data": {
            "text/plain": [
              "tensor([-9, -8, -7])"
            ]
          },
          "metadata": {},
          "execution_count": 65
        }
      ]
    },
    {
      "cell_type": "code",
      "source": [
        "# Add and reassign\n",
        "tensor = tensor + 10\n",
        "tensor"
      ],
      "metadata": {
        "colab": {
          "base_uri": "https://localhost:8080/"
        },
        "id": "3_Uw7bS--8BJ",
        "outputId": "edb76c67-8af2-4c7e-a9ff-81426cad6a14"
      },
      "execution_count": 66,
      "outputs": [
        {
          "output_type": "execute_result",
          "data": {
            "text/plain": [
              "tensor([1, 2, 3])"
            ]
          },
          "metadata": {},
          "execution_count": 66
        }
      ]
    },
    {
      "cell_type": "code",
      "source": [
        "# Can also use torch functions\n",
        "torch.multiply(tensor, 10)"
      ],
      "metadata": {
        "colab": {
          "base_uri": "https://localhost:8080/"
        },
        "id": "3xf_7s30-98l",
        "outputId": "02ccde89-e618-45f9-d36c-9a16d8f6dc03"
      },
      "execution_count": 67,
      "outputs": [
        {
          "output_type": "execute_result",
          "data": {
            "text/plain": [
              "tensor([10, 20, 30])"
            ]
          },
          "metadata": {},
          "execution_count": 67
        }
      ]
    },
    {
      "cell_type": "code",
      "source": [
        "# Original tensor is still unchanged\n",
        "tensor"
      ],
      "metadata": {
        "colab": {
          "base_uri": "https://localhost:8080/"
        },
        "id": "b1WCDkRR-_zS",
        "outputId": "ca779e14-528f-48e0-a17a-661dcf88e694"
      },
      "execution_count": 68,
      "outputs": [
        {
          "output_type": "execute_result",
          "data": {
            "text/plain": [
              "tensor([1, 2, 3])"
            ]
          },
          "metadata": {},
          "execution_count": 68
        }
      ]
    },
    {
      "cell_type": "code",
      "source": [
        "# Element-wise multiplication (each element multiplies its equivalent, index 0->0, 1->1, 2->2)\n",
        "print(tensor, \"*\", tensor)\n",
        "print(\"Equals:\", tensor * tensor)"
      ],
      "metadata": {
        "colab": {
          "base_uri": "https://localhost:8080/"
        },
        "id": "n3qI_xUC_EXr",
        "outputId": "b8005fe9-a6a6-4abf-b0e5-78a9a2bce63c"
      },
      "execution_count": 69,
      "outputs": [
        {
          "output_type": "stream",
          "name": "stdout",
          "text": [
            "tensor([1, 2, 3]) * tensor([1, 2, 3])\n",
            "Equals: tensor([1, 4, 9])\n"
          ]
        }
      ]
    },
    {
      "cell_type": "markdown",
      "source": [
        "Dalam kode di atas, Anda melakukan perkalian element-wise (perkalian setiap elemen dengan elemen yang setara) pada suatu tensor. Berikut adalah penjelasan singkat:\n",
        "\n",
        "```python\n",
        "# Element-wise multiplication (each element multiplies its equivalent, index 0->0, 1->1, 2->2)\n",
        "print(tensor, \"*\", tensor)\n",
        "```\n",
        "\n",
        "- Baris ini mencetak tensor yang sama di kedua sisi operator perkalian `*`, menunjukkan bahwa kita akan melakukan perkalian element-wise.\n",
        "\n",
        "```python\n",
        "print(\"Equals:\", tensor * tensor)\n",
        "```\n",
        "\n",
        "- Baris ini mencetak hasil perkalian element-wise dari tensor dengan dirinya sendiri. Hasilnya adalah tensor baru dengan nilai `[1, 4, 9]`, di mana setiap elemen merupakan hasil dari perkalian elemen yang setara.\n",
        "\n",
        "Jadi, secara keseluruhan, kode tersebut melakukan perkalian element-wise pada tensor `[1, 2, 3]` dengan dirinya sendiri, menghasilkan tensor baru dengan nilai `[1, 4, 9]`."
      ],
      "metadata": {
        "id": "yMts0q7Ms2VO"
      }
    },
    {
      "cell_type": "code",
      "source": [
        "import torch\n",
        "tensor = torch.tensor([1, 2, 3])\n",
        "tensor.shape"
      ],
      "metadata": {
        "colab": {
          "base_uri": "https://localhost:8080/"
        },
        "id": "ADlLFKsu_F5E",
        "outputId": "557c114e-1a86-4997-c367-b4fc7d891b61"
      },
      "execution_count": 70,
      "outputs": [
        {
          "output_type": "execute_result",
          "data": {
            "text/plain": [
              "torch.Size([3])"
            ]
          },
          "metadata": {},
          "execution_count": 70
        }
      ]
    },
    {
      "cell_type": "markdown",
      "source": [
        "Pada kode di atas, Anda menggunakan atribut `shape` untuk mendapatkan bentuk (shape) dari tensor PyTorch. Berikut adalah penjelasan singkat:\n",
        "\n",
        "```python\n",
        "import torch\n",
        "tensor = torch.tensor([1, 2, 3])\n",
        "tensor.shape\n",
        "```\n",
        "\n",
        "- `torch.tensor([1, 2, 3])`: Membuat tensor PyTorch dari list yang diberikan, yaitu tensor dengan elemen `[1, 2, 3]`.\n",
        "\n",
        "```python\n",
        "tensor.shape\n",
        "```\n",
        "\n",
        "- Baris ini mengembalikan bentuk (shape) dari tensor. Pada kasus ini, tensor tersebut adalah tensor 1 dimensi (rank 1), sehingga bentuknya adalah `(3,)`, yang berarti terdapat 3 elemen dalam satu dimensi.\n",
        "\n",
        "Jadi, secara keseluruhan, kode tersebut menciptakan tensor `[1, 2, 3]` dan kemudian menampilkan bentuk (shape) dari tensor tersebut."
      ],
      "metadata": {
        "id": "ckt77SVTtyVB"
      }
    },
    {
      "cell_type": "code",
      "source": [
        "# Element-wise matrix multiplication\n",
        "tensor * tensor"
      ],
      "metadata": {
        "colab": {
          "base_uri": "https://localhost:8080/"
        },
        "id": "WqRq71HZ_Hrf",
        "outputId": "3d5867d3-0b91-41ec-c155-18cae8fbc93e"
      },
      "execution_count": 71,
      "outputs": [
        {
          "output_type": "execute_result",
          "data": {
            "text/plain": [
              "tensor([1, 4, 9])"
            ]
          },
          "metadata": {},
          "execution_count": 71
        }
      ]
    },
    {
      "cell_type": "markdown",
      "source": [
        "Dalam kode di atas, Anda melakukan perkalian element-wise pada suatu tensor dengan dirinya sendiri. Namun, karena tensor tersebut adalah tensor satu dimensi (vektor), hasilnya adalah perkalian element-wise dari setiap elemen dengan dirinya sendiri. Berikut adalah penjelasan singkat:\n",
        "\n",
        "```python\n",
        "# Element-wise matrix multiplication\n",
        "tensor * tensor\n",
        "```\n",
        "\n",
        "- Baris ini melakukan perkalian element-wise pada tensor dengan dirinya sendiri. Karena tensor `tensor` adalah tensor satu dimensi (vektor), hasilnya adalah vektor baru dengan nilai `[1, 4, 9]`, di mana setiap elemen merupakan hasil dari perkalian elemen yang setara.\n",
        "\n",
        "Jadi, secara keseluruhan, kode tersebut menghasilkan vektor baru dengan nilai `[1, 4, 9]`, yang merupakan hasil dari perkalian element-wise dari tensor `[1, 2, 3]` dengan dirinya sendiri."
      ],
      "metadata": {
        "id": "xFfEpFqCt0g-"
      }
    },
    {
      "cell_type": "code",
      "source": [
        "# Matrix multiplication\n",
        "torch.matmul(tensor, tensor)"
      ],
      "metadata": {
        "colab": {
          "base_uri": "https://localhost:8080/"
        },
        "id": "UtDnWcG-_S84",
        "outputId": "6a126ecf-4b76-40a9-e663-60c5c7091c40"
      },
      "execution_count": 72,
      "outputs": [
        {
          "output_type": "execute_result",
          "data": {
            "text/plain": [
              "tensor(14)"
            ]
          },
          "metadata": {},
          "execution_count": 72
        }
      ]
    },
    {
      "cell_type": "code",
      "source": [
        "# Can also use the \"@\" symbol for matrix multiplication, though not recommended\n",
        "tensor @ tensor"
      ],
      "metadata": {
        "colab": {
          "base_uri": "https://localhost:8080/"
        },
        "id": "sJF2RZej_Ub3",
        "outputId": "e87ae3d1-0ec3-4ddb-c34b-9cfec7e8e17e"
      },
      "execution_count": 73,
      "outputs": [
        {
          "output_type": "execute_result",
          "data": {
            "text/plain": [
              "tensor(14)"
            ]
          },
          "metadata": {},
          "execution_count": 73
        }
      ]
    },
    {
      "cell_type": "code",
      "source": [
        "%%time\n",
        "# Matrix multiplication by hand\n",
        "# (avoid doing operations with for loops at all cost, they are computationally expensive)\n",
        "value = 0\n",
        "for i in range(len(tensor)):\n",
        "  value += tensor[i] * tensor[i]\n",
        "value"
      ],
      "metadata": {
        "colab": {
          "base_uri": "https://localhost:8080/"
        },
        "id": "B6cTUXcS_WGN",
        "outputId": "099b7267-2868-4166-9057-1854b5603919"
      },
      "execution_count": 74,
      "outputs": [
        {
          "output_type": "stream",
          "name": "stdout",
          "text": [
            "CPU times: user 118 µs, sys: 21 µs, total: 139 µs\n",
            "Wall time: 145 µs\n"
          ]
        },
        {
          "output_type": "execute_result",
          "data": {
            "text/plain": [
              "tensor(14)"
            ]
          },
          "metadata": {},
          "execution_count": 74
        }
      ]
    },
    {
      "cell_type": "markdown",
      "source": [
        "Dalam kode di atas, Anda melakukan perkalian matriks secara manual dengan menggunakan loop `for`. Penggunaan loop `for` untuk operasi matriks dapat menjadi mahal secara komputasi, dan sebaiknya dihindari jika mungkin. Untuk melakukan perkalian element-wise dan menghitung jumlahnya, Anda dapat menggunakan fungsi PyTorch atau NumPy yang dioptimalkan. Berikut adalah penjelasan singkat:\n",
        "\n",
        "```python\n",
        "%%time\n",
        "# Matrix multiplication by hand\n",
        "# (avoid doing operations with for loops at all cost, they are computationally expensive)\n",
        "value = 0\n",
        "for i in range(len(tensor)):\n",
        "  value += tensor[i] * tensor[i]\n",
        "value\n",
        "```\n",
        "\n",
        "- `%time` adalah magic command di Jupyter Notebook yang digunakan untuk mengukur waktu eksekusi sel kode di sel yang sama. `%%time` digunakan untuk mengukur waktu eksekusi seluruh sel kode.\n",
        "\n",
        "- Baris kedua (`for` loop) melakukan perkalian element-wise dan menghitung jumlahnya secara manual menggunakan loop `for`.\n",
        "\n",
        "Jika tujuan Anda adalah untuk menghitung jumlah dari kuadrat setiap elemen dalam tensor, ada cara yang lebih efisien menggunakan operasi vektorisasi di PyTorch atau NumPy tanpa perlu menggunakan loop `for`. Contohnya dapat dilihat di kode sebelumnya yang menggunakan `tensor * tensor`.\n",
        "\n",
        "Penting untuk mencatat bahwa menggunakan operasi vektorisasi biasanya lebih efisien dan lebih disukai daripada menggunakan loop `for` untuk operasi matriks atau vektor dalam PyTorch atau NumPy."
      ],
      "metadata": {
        "id": "iLbG1VP2vPpU"
      }
    },
    {
      "cell_type": "code",
      "source": [
        "%%time\n",
        "torch.matmul(tensor, tensor)"
      ],
      "metadata": {
        "colab": {
          "base_uri": "https://localhost:8080/"
        },
        "id": "K8ZZzGzG_X-x",
        "outputId": "f62faf80-aa94-4ff5-da0a-d157ecb870b9"
      },
      "execution_count": 75,
      "outputs": [
        {
          "output_type": "stream",
          "name": "stdout",
          "text": [
            "CPU times: user 31 µs, sys: 0 ns, total: 31 µs\n",
            "Wall time: 34.1 µs\n"
          ]
        },
        {
          "output_type": "execute_result",
          "data": {
            "text/plain": [
              "tensor(14)"
            ]
          },
          "metadata": {},
          "execution_count": 75
        }
      ]
    },
    {
      "cell_type": "code",
      "source": [
        "# Shapes need to be in the right way\n",
        "tensor_A = torch.tensor([[1, 2],\n",
        "                         [3, 4],\n",
        "                         [5, 6]], dtype=torch.float32)\n",
        "\n",
        "tensor_B = torch.tensor([[7, 10],\n",
        "                         [8, 11],\n",
        "                         [9, 12]], dtype=torch.float32)\n",
        "\n",
        "torch.matmul(tensor_A, tensor_B) # (this will error)"
      ],
      "metadata": {
        "colab": {
          "base_uri": "https://localhost:8080/",
          "height": 210
        },
        "id": "pjEK9zat_anF",
        "outputId": "ae3808fc-1af4-4e82-ec25-ea5292f59f8f"
      },
      "execution_count": 76,
      "outputs": [
        {
          "output_type": "error",
          "ename": "RuntimeError",
          "evalue": "ignored",
          "traceback": [
            "\u001b[0;31m---------------------------------------------------------------------------\u001b[0m",
            "\u001b[0;31mRuntimeError\u001b[0m                              Traceback (most recent call last)",
            "\u001b[0;32m<ipython-input-76-aceec990e652>\u001b[0m in \u001b[0;36m<cell line: 10>\u001b[0;34m()\u001b[0m\n\u001b[1;32m      8\u001b[0m                          [9, 12]], dtype=torch.float32)\n\u001b[1;32m      9\u001b[0m \u001b[0;34m\u001b[0m\u001b[0m\n\u001b[0;32m---> 10\u001b[0;31m \u001b[0mtorch\u001b[0m\u001b[0;34m.\u001b[0m\u001b[0mmatmul\u001b[0m\u001b[0;34m(\u001b[0m\u001b[0mtensor_A\u001b[0m\u001b[0;34m,\u001b[0m \u001b[0mtensor_B\u001b[0m\u001b[0;34m)\u001b[0m \u001b[0;31m# (this will error)\u001b[0m\u001b[0;34m\u001b[0m\u001b[0;34m\u001b[0m\u001b[0m\n\u001b[0m",
            "\u001b[0;31mRuntimeError\u001b[0m: mat1 and mat2 shapes cannot be multiplied (3x2 and 3x2)"
          ]
        }
      ]
    },
    {
      "cell_type": "markdown",
      "source": [
        "Pada kode di atas, Anda mencoba melakukan perkalian matriks menggunakan `torch.matmul()`, namun akan mendapatkan kesalahan. Kesalahan ini muncul karena bentuk (shape) dari matriks `tensor_A` dan `tensor_B` tidak memenuhi persyaratan untuk perkalian matriks yang valid.\n",
        "\n",
        "Untuk dapat melakukan perkalian matriks dengan benar, jumlah kolom dari matriks pertama (`tensor_A`) harus sama dengan jumlah baris dari matriks kedua (`tensor_B`). Dalam hal ini, kedua matriks memiliki bentuk (shape) 3x2, yang berarti matriks pertama memiliki 3 baris dan 2 kolom, sedangkan matriks kedua memiliki 2 baris dan 2 kolom. Jumlah kolom dari matriks pertama (2) tidak sama dengan jumlah baris dari matriks kedua (2), sehingga operasi perkalian matriks tidak dapat dilakukan.\n",
        "\n",
        "Jika Anda ingin melakukan perkalian matriks yang valid, pastikan bahwa jumlah kolom dari matriks pertama sama dengan jumlah baris dari matriks kedua. Misalnya:\n",
        "\n",
        "```python\n",
        "result_matrix = torch.matmul(tensor_A, tensor_B.t())  # Menggunakan tensor_B.t() untuk mentransposisi matriks kedua\n",
        "```\n",
        "\n",
        "Dengan cara ini, matriks kedua akan memiliki bentuk (shape) 2x3, sehingga operasi perkalian matriks dapat dilakukan."
      ],
      "metadata": {
        "id": "MFdCH86PvV-z"
      }
    },
    {
      "cell_type": "code",
      "source": [
        "# View tensor_A and tensor_B\n",
        "print(tensor_A)\n",
        "print(tensor_B)"
      ],
      "metadata": {
        "colab": {
          "base_uri": "https://localhost:8080/"
        },
        "id": "5qcAqfI8_dt2",
        "outputId": "7f5ae5a8-09d5-46a6-95e9-b26f8fe4c229"
      },
      "execution_count": 77,
      "outputs": [
        {
          "output_type": "stream",
          "name": "stdout",
          "text": [
            "tensor([[1., 2.],\n",
            "        [3., 4.],\n",
            "        [5., 6.]])\n",
            "tensor([[ 7., 10.],\n",
            "        [ 8., 11.],\n",
            "        [ 9., 12.]])\n"
          ]
        }
      ]
    },
    {
      "cell_type": "code",
      "source": [
        "# View tensor_A and tensor_B.T\n",
        "print(tensor_A)\n",
        "print(tensor_B.T)"
      ],
      "metadata": {
        "colab": {
          "base_uri": "https://localhost:8080/"
        },
        "id": "2k-e91w4_ne8",
        "outputId": "00a01069-d210-4954-d226-d9f0bfe455e9"
      },
      "execution_count": 78,
      "outputs": [
        {
          "output_type": "stream",
          "name": "stdout",
          "text": [
            "tensor([[1., 2.],\n",
            "        [3., 4.],\n",
            "        [5., 6.]])\n",
            "tensor([[ 7.,  8.,  9.],\n",
            "        [10., 11., 12.]])\n"
          ]
        }
      ]
    },
    {
      "cell_type": "code",
      "source": [
        "# The operation works when tensor_B is transposed\n",
        "print(f\"Original shapes: tensor_A = {tensor_A.shape}, tensor_B = {tensor_B.shape}\\n\")\n",
        "print(f\"New shapes: tensor_A = {tensor_A.shape} (same as above), tensor_B.T = {tensor_B.T.shape}\\n\")\n",
        "print(f\"Multiplying: {tensor_A.shape} * {tensor_B.T.shape} <- inner dimensions match\\n\")\n",
        "print(\"Output:\\n\")\n",
        "output = torch.matmul(tensor_A, tensor_B.T)\n",
        "print(output)\n",
        "print(f\"\\nOutput shape: {output.shape}\")"
      ],
      "metadata": {
        "colab": {
          "base_uri": "https://localhost:8080/"
        },
        "id": "vKiiLwzf_o4i",
        "outputId": "b05765d2-59fb-44ef-87a7-274c47b26cb8"
      },
      "execution_count": 79,
      "outputs": [
        {
          "output_type": "stream",
          "name": "stdout",
          "text": [
            "Original shapes: tensor_A = torch.Size([3, 2]), tensor_B = torch.Size([3, 2])\n",
            "\n",
            "New shapes: tensor_A = torch.Size([3, 2]) (same as above), tensor_B.T = torch.Size([2, 3])\n",
            "\n",
            "Multiplying: torch.Size([3, 2]) * torch.Size([2, 3]) <- inner dimensions match\n",
            "\n",
            "Output:\n",
            "\n",
            "tensor([[ 27.,  30.,  33.],\n",
            "        [ 61.,  68.,  75.],\n",
            "        [ 95., 106., 117.]])\n",
            "\n",
            "Output shape: torch.Size([3, 3])\n"
          ]
        }
      ]
    },
    {
      "cell_type": "markdown",
      "source": [
        "Dalam kode di atas, Anda berhasil melakukan operasi perkalian matriks setelah mentransposisi `tensor_B` agar bentuknya sesuai untuk operasi perkalian matriks. Berikut adalah penjelasan singkat:\n",
        "\n",
        "```python\n",
        "# The operation works when tensor_B is transposed\n",
        "print(f\"Original shapes: tensor_A = {tensor_A.shape}, tensor_B = {tensor_B.shape}\\n\")\n",
        "print(f\"New shapes: tensor_A = {tensor_A.shape} (same as above), tensor_B.T = {tensor_B.T.shape}\\n\")\n",
        "print(f\"Multiplying: {tensor_A.shape} * {tensor_B.T.shape} <- inner dimensions match\\n\")\n",
        "print(\"Output:\\n\")\n",
        "output = torch.matmul(tensor_A, tensor_B.T)\n",
        "print(output)\n",
        "print(f\"\\nOutput shape: {output.shape}\")\n",
        "```\n",
        "\n",
        "- Pada baris pertama, Anda mencetak bentuk (shape) matriks `tensor_A` dan `tensor_B`.\n",
        "\n",
        "- Baris kedua mencetak bentuk (shape) matriks `tensor_A` yang tetap sama dan bentuk (shape) matriks `tensor_B` setelah ditransposisi.\n",
        "\n",
        "- Baris ketiga memberikan penjelasan bahwa operasi perkalian matriks dilakukan karena jumlah kolom dari `tensor_A` (2) sekarang sama dengan jumlah baris dari `tensor_B.T` (2).\n",
        "\n",
        "- Baris kelima mencetak hasil operasi perkalian matriks antara `tensor_A` dan `tensor_B.T`.\n",
        "\n",
        "- Baris keenam mencetak bentuk (shape) dari hasil matriks.\n",
        "\n",
        "Jadi, dengan mentransposisi `tensor_B`, Anda berhasil melakukan operasi perkalian matriks dengan benar."
      ],
      "metadata": {
        "id": "s8N_7KG9vc9f"
      }
    },
    {
      "cell_type": "code",
      "source": [
        "# torch.mm is a shortcut for matmul\n",
        "torch.mm(tensor_A, tensor_B.T)"
      ],
      "metadata": {
        "colab": {
          "base_uri": "https://localhost:8080/"
        },
        "id": "mZSNciDY_qgg",
        "outputId": "5018ad22-6d8f-4a61-8f83-2f49fd218b5a"
      },
      "execution_count": 80,
      "outputs": [
        {
          "output_type": "execute_result",
          "data": {
            "text/plain": [
              "tensor([[ 27.,  30.,  33.],\n",
              "        [ 61.,  68.,  75.],\n",
              "        [ 95., 106., 117.]])"
            ]
          },
          "metadata": {},
          "execution_count": 80
        }
      ]
    },
    {
      "cell_type": "code",
      "source": [
        "# Since the linear layer starts with a random weights matrix, let's make it reproducible (more on this later)\n",
        "torch.manual_seed(42)\n",
        "# This uses matrix multiplication\n",
        "linear = torch.nn.Linear(in_features=2, # in_features = matches inner dimension of input\n",
        "                         out_features=6) # out_features = describes outer value\n",
        "x = tensor_A\n",
        "output = linear(x)\n",
        "print(f\"Input shape: {x.shape}\\n\")\n",
        "print(f\"Output:\\n{output}\\n\\nOutput shape: {output.shape}\")"
      ],
      "metadata": {
        "colab": {
          "base_uri": "https://localhost:8080/"
        },
        "id": "pG4Bb6Tz_vjz",
        "outputId": "6a799f5e-1900-4597-9bda-ec05576d3e6b"
      },
      "execution_count": 81,
      "outputs": [
        {
          "output_type": "stream",
          "name": "stdout",
          "text": [
            "Input shape: torch.Size([3, 2])\n",
            "\n",
            "Output:\n",
            "tensor([[2.2368, 1.2292, 0.4714, 0.3864, 0.1309, 0.9838],\n",
            "        [4.4919, 2.1970, 0.4469, 0.5285, 0.3401, 2.4777],\n",
            "        [6.7469, 3.1648, 0.4224, 0.6705, 0.5493, 3.9716]],\n",
            "       grad_fn=<AddmmBackward0>)\n",
            "\n",
            "Output shape: torch.Size([3, 6])\n"
          ]
        }
      ]
    },
    {
      "cell_type": "markdown",
      "source": [
        "Dalam kode di atas, Anda menggunakan modul PyTorch `torch.nn.Linear` untuk membuat lapisan linear. Anda juga menetapkan benih (seed) dengan `torch.manual_seed(42)` untuk membuat hasil eksperimen Anda menjadi reproduktif. Berikut adalah penjelasan singkat:\n",
        "\n",
        "```python\n",
        "# Since the linear layer starts with a random weights matrix, let's make it reproducible (more on this later)\n",
        "torch.manual_seed(42)\n",
        "```\n",
        "\n",
        "- Baris ini menetapkan benih (seed) untuk generator angka acak PyTorch, sehingga hasil eksperimen ini dapat direproduksi.\n",
        "\n",
        "```python\n",
        "# This uses matrix multiplication\n",
        "linear = torch.nn.Linear(in_features=2, out_features=6)\n",
        "```\n",
        "\n",
        "- Baris ini membuat objek lapisan linear dengan dua input (in_features) dan enam output (out_features).\n",
        "\n",
        "```python\n",
        "x = tensor_A\n",
        "output = linear(x)\n",
        "```\n",
        "\n",
        "- Baris ini menggunakan lapisan linear untuk melakukan transformasi pada tensor `tensor_A`.\n",
        "\n",
        "```python\n",
        "print(f\"Input shape: {x.shape}\\n\")\n",
        "```\n",
        "\n",
        "- Baris ini mencetak bentuk (shape) dari tensor input `x` (matriks `tensor_A`).\n",
        "\n",
        "```python\n",
        "print(f\"Output:\\n{output}\\n\\nOutput shape: {output.shape}\")\n",
        "```\n",
        "\n",
        "- Baris ini mencetak hasil transformasi tensor input melalui lapisan linear serta bentuk (shape) dari hasilnya.\n",
        "\n",
        "Jadi, secara keseluruhan, kode tersebut membuat lapisan linear menggunakan PyTorch, melakukan transformasi pada tensor input, dan mencetak hasil transformasi beserta bentuk (shape) dari input dan output."
      ],
      "metadata": {
        "id": "NkrZR5jZvhpk"
      }
    },
    {
      "cell_type": "code",
      "source": [
        "# Create a tensor\n",
        "x = torch.arange(0, 100, 10)\n",
        "x"
      ],
      "metadata": {
        "colab": {
          "base_uri": "https://localhost:8080/"
        },
        "id": "dx-Mj4ur_1zQ",
        "outputId": "d0e700e8-e569-4635-ee4a-45a7800a6c1a"
      },
      "execution_count": 82,
      "outputs": [
        {
          "output_type": "execute_result",
          "data": {
            "text/plain": [
              "tensor([ 0, 10, 20, 30, 40, 50, 60, 70, 80, 90])"
            ]
          },
          "metadata": {},
          "execution_count": 82
        }
      ]
    },
    {
      "cell_type": "code",
      "source": [
        "print(f\"Minimum: {x.min()}\")\n",
        "print(f\"Maximum: {x.max()}\")\n",
        "# print(f\"Mean: {x.mean()}\") # this will error\n",
        "print(f\"Mean: {x.type(torch.float32).mean()}\") # won't work without float datatype\n",
        "print(f\"Sum: {x.sum()}\")"
      ],
      "metadata": {
        "colab": {
          "base_uri": "https://localhost:8080/"
        },
        "id": "g7eJ7aeT_4Xf",
        "outputId": "f78c544a-0543-4a1f-98ac-5c034e6dac9d"
      },
      "execution_count": 83,
      "outputs": [
        {
          "output_type": "stream",
          "name": "stdout",
          "text": [
            "Minimum: 0\n",
            "Maximum: 90\n",
            "Mean: 45.0\n",
            "Sum: 450\n"
          ]
        }
      ]
    },
    {
      "cell_type": "markdown",
      "source": [
        "Dalam kode di atas, Anda mencetak nilai minimum, maksimum, rata-rata, dan jumlah dari tensor `x` (matriks `tensor_A`). Berikut adalah penjelasan singkat:\n",
        "\n",
        "```python\n",
        "print(f\"Minimum: {x.min()}\")\n",
        "```\n",
        "\n",
        "- Baris ini mencetak nilai minimum dari tensor `x` (matriks `tensor_A`).\n",
        "\n",
        "```python\n",
        "print(f\"Maximum: {x.max()}\")\n",
        "```\n",
        "\n",
        "- Baris ini mencetak nilai maksimum dari tensor `x` (matriks `tensor_A`).\n",
        "\n",
        "```python\n",
        "# print(f\"Mean: {x.mean()}\") # this will error\n",
        "```\n",
        "\n",
        "- Baris ini memberikan contoh bagaimana memanggil `mean()` pada tensor integer dapat menyebabkan kesalahan. PyTorch memerlukan tipe data float untuk operasi rata-rata.\n",
        "\n",
        "```python\n",
        "print(f\"Mean: {x.type(torch.float32).mean()}\") # won't work without float datatype\n",
        "```\n",
        "\n",
        "- Baris ini mengubah tipe data tensor menjadi float32 dan kemudian menghitung rata-ratanya.\n",
        "\n",
        "```python\n",
        "print(f\"Sum: {x.sum()}\")\n",
        "```\n",
        "\n",
        "- Baris ini mencetak jumlah dari semua elemen dalam tensor `x` (matriks `tensor_A`).\n",
        "\n",
        "Jadi, secara keseluruhan, kode tersebut memberikan informasi statistik tentang tensor `x`, termasuk nilai minimum, maksimum, rata-rata (setelah mengubah tipe data menjadi float), dan jumlah dari elemen-elemen tensor tersebut."
      ],
      "metadata": {
        "id": "ElrvgufHvtP5"
      }
    },
    {
      "cell_type": "code",
      "source": [
        "torch.max(x), torch.min(x), torch.mean(x.type(torch.float32)), torch.sum(x)"
      ],
      "metadata": {
        "colab": {
          "base_uri": "https://localhost:8080/"
        },
        "id": "djs8cIBm_56N",
        "outputId": "3e514969-5427-4e3b-ed40-190e92399f54"
      },
      "execution_count": 84,
      "outputs": [
        {
          "output_type": "execute_result",
          "data": {
            "text/plain": [
              "(tensor(90), tensor(0), tensor(45.), tensor(450))"
            ]
          },
          "metadata": {},
          "execution_count": 84
        }
      ]
    },
    {
      "cell_type": "code",
      "source": [
        "# Create a tensor\n",
        "tensor = torch.arange(10, 100, 10)\n",
        "print(f\"Tensor: {tensor}\")\n",
        "\n",
        "# Returns index of max and min values\n",
        "print(f\"Index where max value occurs: {tensor.argmax()}\")\n",
        "print(f\"Index where min value occurs: {tensor.argmin()}\")"
      ],
      "metadata": {
        "colab": {
          "base_uri": "https://localhost:8080/"
        },
        "id": "VxL7NVe__7jZ",
        "outputId": "e7947174-a015-485b-b6d9-1b7acbe3bc43"
      },
      "execution_count": 85,
      "outputs": [
        {
          "output_type": "stream",
          "name": "stdout",
          "text": [
            "Tensor: tensor([10, 20, 30, 40, 50, 60, 70, 80, 90])\n",
            "Index where max value occurs: 8\n",
            "Index where min value occurs: 0\n"
          ]
        }
      ]
    },
    {
      "cell_type": "markdown",
      "source": [
        "Dalam kode di atas, Anda membuat tensor menggunakan `torch.arange()` dan kemudian mencetak indeks dari nilai maksimum dan minimum dalam tensor tersebut. Berikut adalah penjelasan singkat:\n",
        "\n",
        "```python\n",
        "# Create a tensor\n",
        "tensor = torch.arange(10, 100, 10)\n",
        "print(f\"Tensor: {tensor}\")\n",
        "```\n",
        "\n",
        "- Baris ini membuat tensor menggunakan `torch.arange()`, yang menghasilkan tensor berisi nilai dari 10 hingga 90 (dengan langkah 10).\n",
        "\n",
        "```python\n",
        "# Returns index of max and min values\n",
        "print(f\"Index where max value occurs: {tensor.argmax()}\")\n",
        "print(f\"Index where min value occurs: {tensor.argmin()}\")\n",
        "```\n",
        "\n",
        "- Baris-baris ini mencetak indeks dari nilai maksimum dan minimum dalam tensor menggunakan `argmax()` dan `argmin()`. `argmax()` mengembalikan indeks dari nilai maksimum, sedangkan `argmin()` mengembalikan indeks dari nilai minimum.\n",
        "\n",
        "Jadi, secara keseluruhan, kode tersebut menciptakan tensor dan kemudian mencetak indeks dari nilai maksimum dan minimum dalam tensor tersebut."
      ],
      "metadata": {
        "id": "Xeu_sfnIv0BA"
      }
    },
    {
      "cell_type": "code",
      "source": [
        "# Create a tensor and check its datatype\n",
        "tensor = torch.arange(10., 100., 10.)\n",
        "tensor.dtype"
      ],
      "metadata": {
        "colab": {
          "base_uri": "https://localhost:8080/"
        },
        "id": "o3pBlvyo_9Ey",
        "outputId": "73520790-9bfb-424d-9a84-f743c24b5c9d"
      },
      "execution_count": 86,
      "outputs": [
        {
          "output_type": "execute_result",
          "data": {
            "text/plain": [
              "torch.float32"
            ]
          },
          "metadata": {},
          "execution_count": 86
        }
      ]
    },
    {
      "cell_type": "code",
      "source": [
        "# Create a float16 tensor\n",
        "tensor_float16 = tensor.type(torch.float16)\n",
        "tensor_float16"
      ],
      "metadata": {
        "colab": {
          "base_uri": "https://localhost:8080/"
        },
        "id": "-7l_R3oC__Bv",
        "outputId": "9f640f48-863c-4f46-e1ba-76b2235365b3"
      },
      "execution_count": 87,
      "outputs": [
        {
          "output_type": "execute_result",
          "data": {
            "text/plain": [
              "tensor([10., 20., 30., 40., 50., 60., 70., 80., 90.], dtype=torch.float16)"
            ]
          },
          "metadata": {},
          "execution_count": 87
        }
      ]
    },
    {
      "cell_type": "code",
      "source": [
        "# Create a int8 tensor\n",
        "tensor_int8 = tensor.type(torch.int8)\n",
        "tensor_int8"
      ],
      "metadata": {
        "colab": {
          "base_uri": "https://localhost:8080/"
        },
        "id": "Dyo0j-puAAuQ",
        "outputId": "33b0c971-6641-4012-fba5-c6d98cb7936a"
      },
      "execution_count": 88,
      "outputs": [
        {
          "output_type": "execute_result",
          "data": {
            "text/plain": [
              "tensor([10, 20, 30, 40, 50, 60, 70, 80, 90], dtype=torch.int8)"
            ]
          },
          "metadata": {},
          "execution_count": 88
        }
      ]
    },
    {
      "cell_type": "code",
      "source": [
        "# Create a tensor\n",
        "import torch\n",
        "x = torch.arange(1., 8.)\n",
        "x, x.shape"
      ],
      "metadata": {
        "colab": {
          "base_uri": "https://localhost:8080/"
        },
        "id": "JWkFa34pACO5",
        "outputId": "a5fdd650-fc4c-44e6-ad13-c745187d1d50"
      },
      "execution_count": 89,
      "outputs": [
        {
          "output_type": "execute_result",
          "data": {
            "text/plain": [
              "(tensor([1., 2., 3., 4., 5., 6., 7.]), torch.Size([7]))"
            ]
          },
          "metadata": {},
          "execution_count": 89
        }
      ]
    },
    {
      "cell_type": "code",
      "source": [
        "# Add an extra dimension\n",
        "x_reshaped = x.reshape(1, 7)\n",
        "x_reshaped, x_reshaped.shape"
      ],
      "metadata": {
        "colab": {
          "base_uri": "https://localhost:8080/"
        },
        "id": "QtUUeybwAEhq",
        "outputId": "7d2e5226-04ec-40bd-c65f-dae357da03ef"
      },
      "execution_count": 90,
      "outputs": [
        {
          "output_type": "execute_result",
          "data": {
            "text/plain": [
              "(tensor([[1., 2., 3., 4., 5., 6., 7.]]), torch.Size([1, 7]))"
            ]
          },
          "metadata": {},
          "execution_count": 90
        }
      ]
    },
    {
      "cell_type": "code",
      "source": [
        "# Change view (keeps same data as original but changes view)\n",
        "# See more: https://stackoverflow.com/a/54507446/7900723\n",
        "z = x.view(1, 7)\n",
        "z, z.shape"
      ],
      "metadata": {
        "colab": {
          "base_uri": "https://localhost:8080/"
        },
        "id": "OdVqB-WMAFvV",
        "outputId": "f4222db0-b144-45bf-a8f0-08a680a6578d"
      },
      "execution_count": 91,
      "outputs": [
        {
          "output_type": "execute_result",
          "data": {
            "text/plain": [
              "(tensor([[1., 2., 3., 4., 5., 6., 7.]]), torch.Size([1, 7]))"
            ]
          },
          "metadata": {},
          "execution_count": 91
        }
      ]
    },
    {
      "cell_type": "code",
      "source": [
        "# Changing z changes x\n",
        "z[:, 0] = 5\n",
        "z, x"
      ],
      "metadata": {
        "colab": {
          "base_uri": "https://localhost:8080/"
        },
        "id": "WOHsz-dhAHtH",
        "outputId": "e4daa7c0-a267-4390-8830-9325056e1848"
      },
      "execution_count": 92,
      "outputs": [
        {
          "output_type": "execute_result",
          "data": {
            "text/plain": [
              "(tensor([[5., 2., 3., 4., 5., 6., 7.]]), tensor([5., 2., 3., 4., 5., 6., 7.]))"
            ]
          },
          "metadata": {},
          "execution_count": 92
        }
      ]
    },
    {
      "cell_type": "code",
      "source": [
        "# Stack tensors on top of each other\n",
        "x_stacked = torch.stack([x, x, x, x], dim=0) # try changing dim to dim=1 and see what happens\n",
        "x_stacked"
      ],
      "metadata": {
        "colab": {
          "base_uri": "https://localhost:8080/"
        },
        "id": "9uERrv0FAMAU",
        "outputId": "db34d7d7-e49a-4347-9e91-ff78b75b21ac"
      },
      "execution_count": 93,
      "outputs": [
        {
          "output_type": "execute_result",
          "data": {
            "text/plain": [
              "tensor([[5., 2., 3., 4., 5., 6., 7.],\n",
              "        [5., 2., 3., 4., 5., 6., 7.],\n",
              "        [5., 2., 3., 4., 5., 6., 7.],\n",
              "        [5., 2., 3., 4., 5., 6., 7.]])"
            ]
          },
          "metadata": {},
          "execution_count": 93
        }
      ]
    },
    {
      "cell_type": "code",
      "source": [
        "print(f\"Previous tensor: {x_reshaped}\")\n",
        "print(f\"Previous shape: {x_reshaped.shape}\")\n",
        "\n",
        "# Remove extra dimension from x_reshaped\n",
        "x_squeezed = x_reshaped.squeeze()\n",
        "print(f\"\\nNew tensor: {x_squeezed}\")\n",
        "print(f\"New shape: {x_squeezed.shape}\")"
      ],
      "metadata": {
        "colab": {
          "base_uri": "https://localhost:8080/"
        },
        "id": "JNCVWsbOARNu",
        "outputId": "26d9d786-6012-46c4-f22e-3d61195a688a"
      },
      "execution_count": 94,
      "outputs": [
        {
          "output_type": "stream",
          "name": "stdout",
          "text": [
            "Previous tensor: tensor([[5., 2., 3., 4., 5., 6., 7.]])\n",
            "Previous shape: torch.Size([1, 7])\n",
            "\n",
            "New tensor: tensor([5., 2., 3., 4., 5., 6., 7.])\n",
            "New shape: torch.Size([7])\n"
          ]
        }
      ]
    },
    {
      "cell_type": "markdown",
      "source": [
        "Dalam kode di atas, Anda menggunakan metode `squeeze()` untuk menghapus dimensi yang memiliki panjang 1 dari suatu tensor. Berikut adalah penjelasan singkat:\n",
        "\n",
        "```python\n",
        "print(f\"Previous tensor: {x_reshaped}\")\n",
        "print(f\"Previous shape: {x_reshaped.shape}\")\n",
        "```\n",
        "\n",
        "- Baris-baris ini mencetak tensor sebelum dimensinya diubah dan bentuk (shape) dari tensor tersebut.\n",
        "\n",
        "```python\n",
        "# Remove extra dimension from x_reshaped\n",
        "x_squeezed = x_reshaped.squeeze()\n",
        "```\n",
        "\n",
        "- Baris ini menggunakan metode `squeeze()` untuk menghapus dimensi yang memiliki panjang 1 dari tensor `x_reshaped`. Hasilnya disimpan dalam tensor baru `x_squeezed`.\n",
        "\n",
        "```python\n",
        "print(f\"\\nNew tensor: {x_squeezed}\")\n",
        "print(f\"New shape: {x_squeezed.shape}\")\n",
        "```\n",
        "\n",
        "- Baris-baris ini mencetak tensor setelah dimensinya diubah menggunakan `squeeze()` dan bentuk (shape) dari tensor yang baru.\n",
        "\n",
        "Jadi, secara keseluruhan, kode tersebut mencetak tensor sebelum dan setelah penghapusan dimensi yang memiliki panjang 1 dengan menggunakan metode `squeeze()`."
      ],
      "metadata": {
        "id": "fv2oz1NDwBgh"
      }
    },
    {
      "cell_type": "code",
      "source": [
        "print(f\"Previous tensor: {x_squeezed}\")\n",
        "print(f\"Previous shape: {x_squeezed.shape}\")\n",
        "\n",
        "## Add an extra dimension with unsqueeze\n",
        "x_unsqueezed = x_squeezed.unsqueeze(dim=0)\n",
        "print(f\"\\nNew tensor: {x_unsqueezed}\")\n",
        "print(f\"New shape: {x_unsqueezed.shape}\")"
      ],
      "metadata": {
        "colab": {
          "base_uri": "https://localhost:8080/"
        },
        "id": "OnbFCjLTASkV",
        "outputId": "8145884e-55c3-452b-94e4-60eae72f66c8"
      },
      "execution_count": 95,
      "outputs": [
        {
          "output_type": "stream",
          "name": "stdout",
          "text": [
            "Previous tensor: tensor([5., 2., 3., 4., 5., 6., 7.])\n",
            "Previous shape: torch.Size([7])\n",
            "\n",
            "New tensor: tensor([[5., 2., 3., 4., 5., 6., 7.]])\n",
            "New shape: torch.Size([1, 7])\n"
          ]
        }
      ]
    },
    {
      "cell_type": "markdown",
      "source": [
        "Dalam kode di atas, Anda menggunakan metode `unsqueeze()` untuk menambahkan dimensi baru pada suatu tensor. Berikut adalah penjelasan singkat:\n",
        "\n",
        "```python\n",
        "print(f\"Previous tensor: {x_squeezed}\")\n",
        "print(f\"Previous shape: {x_squeezed.shape}\")\n",
        "```\n",
        "\n",
        "- Baris-baris ini mencetak tensor sebelum dimensinya diubah dan bentuk (shape) dari tensor tersebut.\n",
        "\n",
        "```python\n",
        "# Add an extra dimension with unsqueeze\n",
        "x_unsqueezed = x_squeezed.unsqueeze(dim=0)\n",
        "```\n",
        "\n",
        "- Baris ini menggunakan metode `unsqueeze(dim=0)` untuk menambahkan dimensi baru pada tensor `x_squeezed`. Dimensi baru ini ditempatkan di indeks 0, sehingga bentuk (shape) dari tensor menjadi `(1, n)`, di mana `n` adalah panjang dimensi sebelumnya.\n",
        "\n",
        "```python\n",
        "print(f\"\\nNew tensor: {x_unsqueezed}\")\n",
        "print(f\"New shape: {x_unsqueezed.shape}\")\n",
        "```\n",
        "\n",
        "- Baris-baris ini mencetak tensor setelah dimensinya diubah menggunakan `unsqueeze()` dan bentuk (shape) dari tensor yang baru.\n",
        "\n",
        "Jadi, secara keseluruhan, kode tersebut mencetak tensor sebelum dan setelah penambahan dimensi baru menggunakan `unsqueeze()`."
      ],
      "metadata": {
        "id": "OP8fF1JdwCzb"
      }
    },
    {
      "cell_type": "code",
      "source": [
        "# Create tensor with specific shape\n",
        "x_original = torch.rand(size=(224, 224, 3))\n",
        "\n",
        "# Permute the original tensor to rearrange the axis order\n",
        "x_permuted = x_original.permute(2, 0, 1) # shifts axis 0->1, 1->2, 2->0\n",
        "\n",
        "print(f\"Previous shape: {x_original.shape}\")\n",
        "print(f\"New shape: {x_permuted.shape}\")"
      ],
      "metadata": {
        "colab": {
          "base_uri": "https://localhost:8080/"
        },
        "id": "ztk5fvtnAU1k",
        "outputId": "065f9e9b-f904-467f-e300-67e2ee84ea66"
      },
      "execution_count": 96,
      "outputs": [
        {
          "output_type": "stream",
          "name": "stdout",
          "text": [
            "Previous shape: torch.Size([224, 224, 3])\n",
            "New shape: torch.Size([3, 224, 224])\n"
          ]
        }
      ]
    },
    {
      "cell_type": "markdown",
      "source": [
        "Dalam kode di atas, Anda membuat tensor dengan bentuk (shape) tertentu menggunakan `torch.rand()` dan kemudian menggunakan metode `permute()` untuk merubah urutan sumbu (axis) tensor. Berikut adalah penjelasan singkat:\n",
        "\n",
        "```python\n",
        "# Create tensor with specific shape\n",
        "x_original = torch.rand(size=(224, 224, 3))\n",
        "```\n",
        "\n",
        "- Baris ini membuat tensor dengan bentuk (shape) `(224, 224, 3)` yang diisi dengan nilai acak antara 0 dan 1.\n",
        "\n",
        "```python\n",
        "# Permute the original tensor to rearrange the axis order\n",
        "x_permuted = x_original.permute(2, 0, 1)  # shifts axis 0->1, 1->2, 2->0\n",
        "```\n",
        "\n",
        "- Baris ini menggunakan metode `permute(2, 0, 1)` untuk merubah urutan sumbu (axis) tensor. Setelah operasi ini, urutan sumbu tensor menjadi `(3, 224, 224)`.\n",
        "\n",
        "```python\n",
        "print(f\"Previous shape: {x_original.shape}\")\n",
        "```\n",
        "\n",
        "- Baris ini mencetak bentuk (shape) tensor sebelum permutasi.\n",
        "\n",
        "```python\n",
        "print(f\"New shape: {x_permuted.shape}\")\n",
        "```\n",
        "\n",
        "- Baris ini mencetak bentuk (shape) tensor setelah permutasi.\n",
        "\n",
        "Jadi, secara keseluruhan, kode tersebut menciptakan tensor dengan bentuk (shape) `(224, 224, 3)`, dan kemudian menggunakan `permute()` untuk merubah urutan sumbu (axis) tensor sehingga bentuknya menjadi `(3, 224, 224)`."
      ],
      "metadata": {
        "id": "qo2w28fDwRO1"
      }
    },
    {
      "cell_type": "code",
      "source": [
        "# Create a tensor\n",
        "import torch\n",
        "x = torch.arange(1, 10).reshape(1, 3, 3)\n",
        "x, x.shape"
      ],
      "metadata": {
        "colab": {
          "base_uri": "https://localhost:8080/"
        },
        "id": "WpGEIGrNAX9G",
        "outputId": "8698d9a5-1dd1-489a-d38d-5ca5d826222f"
      },
      "execution_count": 97,
      "outputs": [
        {
          "output_type": "execute_result",
          "data": {
            "text/plain": [
              "(tensor([[[1, 2, 3],\n",
              "          [4, 5, 6],\n",
              "          [7, 8, 9]]]),\n",
              " torch.Size([1, 3, 3]))"
            ]
          },
          "metadata": {},
          "execution_count": 97
        }
      ]
    },
    {
      "cell_type": "markdown",
      "source": [
        "Dalam kode di atas, Anda membuat tensor `x` menggunakan `torch.arange()` dan kemudian mereshape tensor tersebut menggunakan metode `reshape()`. Berikut adalah penjelasan singkat:\n",
        "\n",
        "```python\n",
        "# Create a tensor\n",
        "import torch\n",
        "x = torch.arange(1, 10).reshape(1, 3, 3)\n",
        "```\n",
        "\n",
        "- Baris ini membuat tensor `x` menggunakan `torch.arange(1, 10)` untuk menghasilkan tensor dengan nilai dari 1 hingga 9, dan kemudian menggunakan `reshape(1, 3, 3)` untuk mengubah bentuk tensor tersebut menjadi `(1, 3, 3)`.\n",
        "\n",
        "```python\n",
        "x, x.shape\n",
        "```\n",
        "\n",
        "- Baris ini mencetak tensor `x` beserta bentuk (shape)-nya.\n",
        "\n",
        "Jadi, secara keseluruhan, kode tersebut menciptakan tensor `x` dengan nilai dari 1 hingga 9 dan bentuk (shape) `(1, 3, 3)`."
      ],
      "metadata": {
        "id": "q6mKiDXUwXt6"
      }
    },
    {
      "cell_type": "code",
      "source": [
        "# Let's index bracket by bracket\n",
        "print(f\"First square bracket:\\n{x[0]}\")\n",
        "print(f\"Second square bracket: {x[0][0]}\")\n",
        "print(f\"Third square bracket: {x[0][0][0]}\")"
      ],
      "metadata": {
        "colab": {
          "base_uri": "https://localhost:8080/"
        },
        "id": "0kpQ7Vk6AaJW",
        "outputId": "e8cd713c-2e32-48e2-ffdb-ef979886632b"
      },
      "execution_count": 98,
      "outputs": [
        {
          "output_type": "stream",
          "name": "stdout",
          "text": [
            "First square bracket:\n",
            "tensor([[1, 2, 3],\n",
            "        [4, 5, 6],\n",
            "        [7, 8, 9]])\n",
            "Second square bracket: tensor([1, 2, 3])\n",
            "Third square bracket: 1\n"
          ]
        }
      ]
    },
    {
      "cell_type": "markdown",
      "source": [
        "Dalam kode di atas, Anda melakukan indeksing tensor secara bertahap menggunakan tanda kurung siku `[ ]`. Berikut adalah penjelasan singkat:\n",
        "\n",
        "```python\n",
        "# Let's index bracket by bracket\n",
        "print(f\"First square bracket:\\n{x[0]}\")\n",
        "```\n",
        "\n",
        "- Baris ini mencetak hasil indeksing pertama, yaitu elemen dengan indeks 0 dari dimensi pertama tensor `x`. Hasilnya adalah tensor 2D `(3, 3)`.\n",
        "\n",
        "```python\n",
        "print(f\"Second square bracket: {x[0][0]}\")\n",
        "```\n",
        "\n",
        "- Baris ini mencetak hasil indeksing kedua, yaitu elemen dengan indeks 0 dari dimensi kedua tensor `x[0]`. Hasilnya adalah tensor 1D `(3,)`.\n",
        "\n",
        "```python\n",
        "print(f\"Third square bracket: {x[0][0][0]}\")\n",
        "```\n",
        "\n",
        "- Baris ini mencetak hasil indeksing ketiga, yaitu elemen dengan indeks 0 dari dimensi ketiga tensor `x[0][0]`. Hasilnya adalah nilai tunggal.\n",
        "\n",
        "Jadi, secara keseluruhan, kode tersebut melakukan indeksing tensor secara bertahap untuk mengakses nilai dalam tensor `x`."
      ],
      "metadata": {
        "id": "JTMkwvVOwdQ0"
      }
    },
    {
      "cell_type": "code",
      "source": [
        "# Get all values of 0th dimension and the 0 index of 1st dimension\n",
        "x[:, 0]"
      ],
      "metadata": {
        "colab": {
          "base_uri": "https://localhost:8080/"
        },
        "id": "99OFsDzGAcAg",
        "outputId": "ab282991-df22-467a-948d-e1b1d626dcd7"
      },
      "execution_count": 99,
      "outputs": [
        {
          "output_type": "execute_result",
          "data": {
            "text/plain": [
              "tensor([[1, 2, 3]])"
            ]
          },
          "metadata": {},
          "execution_count": 99
        }
      ]
    },
    {
      "cell_type": "code",
      "source": [
        "# Get all values of 0th & 1st dimensions but only index 1 of 2nd dimension\n",
        "x[:, :, 1]"
      ],
      "metadata": {
        "colab": {
          "base_uri": "https://localhost:8080/"
        },
        "id": "rrIHdbHhAfPO",
        "outputId": "45de1f5d-795f-4f88-b1e9-71f2572de5dd"
      },
      "execution_count": 100,
      "outputs": [
        {
          "output_type": "execute_result",
          "data": {
            "text/plain": [
              "tensor([[2, 5, 8]])"
            ]
          },
          "metadata": {},
          "execution_count": 100
        }
      ]
    },
    {
      "cell_type": "code",
      "source": [
        "# Get all values of the 0 dimension but only the 1 index value of the 1st and 2nd dimension\n",
        "x[:, 1, 1]"
      ],
      "metadata": {
        "colab": {
          "base_uri": "https://localhost:8080/"
        },
        "id": "zLFrTW4aAgzN",
        "outputId": "c00f00db-889e-4739-a662-a4582c3796c0"
      },
      "execution_count": 101,
      "outputs": [
        {
          "output_type": "execute_result",
          "data": {
            "text/plain": [
              "tensor([5])"
            ]
          },
          "metadata": {},
          "execution_count": 101
        }
      ]
    },
    {
      "cell_type": "code",
      "source": [
        "# Get index 0 of 0th and 1st dimension and all values of 2nd dimension\n",
        "x[0, 0, :] # same as x[0][0]"
      ],
      "metadata": {
        "colab": {
          "base_uri": "https://localhost:8080/"
        },
        "id": "Z-GFCmRsAiUd",
        "outputId": "86471a27-021f-49e3-bf9e-92ddd9207b41"
      },
      "execution_count": 102,
      "outputs": [
        {
          "output_type": "execute_result",
          "data": {
            "text/plain": [
              "tensor([1, 2, 3])"
            ]
          },
          "metadata": {},
          "execution_count": 102
        }
      ]
    },
    {
      "cell_type": "code",
      "source": [
        "# NumPy array to tensor\n",
        "import torch\n",
        "import numpy as np\n",
        "array = np.arange(1.0, 8.0)\n",
        "tensor = torch.from_numpy(array)\n",
        "array, tensor"
      ],
      "metadata": {
        "colab": {
          "base_uri": "https://localhost:8080/"
        },
        "id": "yrFyQi7rAj5S",
        "outputId": "df2483de-0926-46a0-a122-bc68e7f0c75e"
      },
      "execution_count": 103,
      "outputs": [
        {
          "output_type": "execute_result",
          "data": {
            "text/plain": [
              "(array([1., 2., 3., 4., 5., 6., 7.]),\n",
              " tensor([1., 2., 3., 4., 5., 6., 7.], dtype=torch.float64))"
            ]
          },
          "metadata": {},
          "execution_count": 103
        }
      ]
    },
    {
      "cell_type": "markdown",
      "source": [
        "Dalam kode di atas, Anda mengonversi NumPy array ke tensor PyTorch menggunakan `torch.from_numpy()`. Berikut adalah penjelasan singkat:\n",
        "\n",
        "```python\n",
        "# NumPy array to tensor\n",
        "import torch\n",
        "import numpy as np\n",
        "array = np.arange(1.0, 8.0)\n",
        "tensor = torch.from_numpy(array)\n",
        "```\n",
        "\n",
        "- Baris ini membuat NumPy array `array` dengan nilai dari 1.0 hingga 7.0 menggunakan `np.arange(1.0, 8.0)`.\n",
        "\n",
        "- Baris ini menggunakan `torch.from_numpy(array)` untuk mengonversi NumPy array menjadi tensor PyTorch. Harap diperhatikan bahwa tensor ini akan mengambil referensi ke array NumPy asli, sehingga perubahan pada tensor akan tercermin dalam array NumPy dan sebaliknya.\n",
        "\n",
        "```python\n",
        "array, tensor\n",
        "```\n",
        "\n",
        "- Baris ini mencetak NumPy array dan tensor PyTorch yang telah dibuat.\n",
        "\n",
        "Jadi, secara keseluruhan, kode tersebut mengonversi NumPy array ke tensor PyTorch menggunakan `torch.from_numpy()`."
      ],
      "metadata": {
        "id": "Qd4La-eXwjQz"
      }
    },
    {
      "cell_type": "code",
      "source": [
        "# Change the array, keep the tensor\n",
        "array = array + 1\n",
        "array, tensor"
      ],
      "metadata": {
        "colab": {
          "base_uri": "https://localhost:8080/"
        },
        "id": "JoSKnpEOAlhi",
        "outputId": "7d7ff6da-6e1d-4ff6-ce65-4e56af7d2322"
      },
      "execution_count": 104,
      "outputs": [
        {
          "output_type": "execute_result",
          "data": {
            "text/plain": [
              "(array([2., 3., 4., 5., 6., 7., 8.]),\n",
              " tensor([1., 2., 3., 4., 5., 6., 7.], dtype=torch.float64))"
            ]
          },
          "metadata": {},
          "execution_count": 104
        }
      ]
    },
    {
      "cell_type": "code",
      "source": [
        "# Tensor to NumPy array\n",
        "tensor = torch.ones(7) # create a tensor of ones with dtype=float32\n",
        "numpy_tensor = tensor.numpy() # will be dtype=float32 unless changed\n",
        "tensor, numpy_tensor"
      ],
      "metadata": {
        "colab": {
          "base_uri": "https://localhost:8080/"
        },
        "id": "sEluf3CIAnEl",
        "outputId": "14c63fc8-45c8-4136-f3db-2872535e1db1"
      },
      "execution_count": 105,
      "outputs": [
        {
          "output_type": "execute_result",
          "data": {
            "text/plain": [
              "(tensor([1., 1., 1., 1., 1., 1., 1.]),\n",
              " array([1., 1., 1., 1., 1., 1., 1.], dtype=float32))"
            ]
          },
          "metadata": {},
          "execution_count": 105
        }
      ]
    },
    {
      "cell_type": "markdown",
      "source": [
        "Dalam kode di atas, Anda mengonversi tensor PyTorch ke NumPy array menggunakan metode `numpy()`. Berikut adalah penjelasan singkat:\n",
        "\n",
        "```python\n",
        "# Tensor to NumPy array\n",
        "tensor = torch.ones(7)  # create a tensor of ones with dtype=float32\n",
        "numpy_tensor = tensor.numpy()  # will be dtype=float32 unless changed\n",
        "```\n",
        "\n",
        "- Baris ini membuat tensor PyTorch `tensor` yang berisi tujuh elemen dengan nilai 1.0.\n",
        "\n",
        "- Baris ini menggunakan `tensor.numpy()` untuk mengonversi tensor PyTorch menjadi NumPy array.\n",
        "\n",
        "```python\n",
        "tensor, numpy_tensor\n",
        "```\n",
        "\n",
        "- Baris ini mencetak tensor PyTorch dan NumPy array yang telah dibuat.\n",
        "\n",
        "Jadi, secara keseluruhan, kode tersebut mengonversi tensor PyTorch ke NumPy array menggunakan metode `numpy()`. Perlu diingat bahwa perubahan pada tensor PyTorch akan tercermin dalam NumPy array dan sebaliknya, karena keduanya menggunakan memori yang sama."
      ],
      "metadata": {
        "id": "-W9CIL9Ewsop"
      }
    },
    {
      "cell_type": "code",
      "source": [
        "# Change the tensor, keep the array the same\n",
        "tensor = tensor + 1\n",
        "tensor, numpy_tensor"
      ],
      "metadata": {
        "colab": {
          "base_uri": "https://localhost:8080/"
        },
        "id": "KS2WescRAoYY",
        "outputId": "c81f675f-1dfc-479e-cf46-2ad474316b81"
      },
      "execution_count": 106,
      "outputs": [
        {
          "output_type": "execute_result",
          "data": {
            "text/plain": [
              "(tensor([2., 2., 2., 2., 2., 2., 2.]),\n",
              " array([1., 1., 1., 1., 1., 1., 1.], dtype=float32))"
            ]
          },
          "metadata": {},
          "execution_count": 106
        }
      ]
    },
    {
      "cell_type": "code",
      "source": [
        "import torch\n",
        "\n",
        "# Create two random tensors\n",
        "random_tensor_A = torch.rand(3, 4)\n",
        "random_tensor_B = torch.rand(3, 4)\n",
        "\n",
        "print(f\"Tensor A:\\n{random_tensor_A}\\n\")\n",
        "print(f\"Tensor B:\\n{random_tensor_B}\\n\")\n",
        "print(f\"Does Tensor A equal Tensor B? (anywhere)\")\n",
        "random_tensor_A == random_tensor_B"
      ],
      "metadata": {
        "colab": {
          "base_uri": "https://localhost:8080/"
        },
        "id": "0CCceARpAp1w",
        "outputId": "81fe8366-3559-4ef7-935b-e5aa83d69faa"
      },
      "execution_count": 107,
      "outputs": [
        {
          "output_type": "stream",
          "name": "stdout",
          "text": [
            "Tensor A:\n",
            "tensor([[0.8016, 0.3649, 0.6286, 0.9663],\n",
            "        [0.7687, 0.4566, 0.5745, 0.9200],\n",
            "        [0.3230, 0.8613, 0.0919, 0.3102]])\n",
            "\n",
            "Tensor B:\n",
            "tensor([[0.9536, 0.6002, 0.0351, 0.6826],\n",
            "        [0.3743, 0.5220, 0.1336, 0.9666],\n",
            "        [0.9754, 0.8474, 0.8988, 0.1105]])\n",
            "\n",
            "Does Tensor A equal Tensor B? (anywhere)\n"
          ]
        },
        {
          "output_type": "execute_result",
          "data": {
            "text/plain": [
              "tensor([[False, False, False, False],\n",
              "        [False, False, False, False],\n",
              "        [False, False, False, False]])"
            ]
          },
          "metadata": {},
          "execution_count": 107
        }
      ]
    },
    {
      "cell_type": "markdown",
      "source": [
        "Dalam kode di atas, Anda membuat dua tensor acak `random_tensor_A` dan `random_tensor_B`, dan kemudian memeriksa apakah elemen-elemen tensor A sama dengan elemen-elemen tensor B. Berikut adalah penjelasan singkat:\n",
        "\n",
        "```python\n",
        "import torch\n",
        "\n",
        "# Create two random tensors\n",
        "random_tensor_A = torch.rand(3, 4)\n",
        "random_tensor_B = torch.rand(3, 4)\n",
        "\n",
        "print(f\"Tensor A:\\n{random_tensor_A}\\n\")\n",
        "print(f\"Tensor B:\\n{random_tensor_B}\\n\")\n",
        "```\n",
        "\n",
        "- Baris-baris ini membuat dua tensor acak `random_tensor_A` dan `random_tensor_B` dengan bentuk (shape) 3x4 menggunakan `torch.rand()`.\n",
        "\n",
        "```python\n",
        "print(f\"Does Tensor A equal Tensor B? (anywhere)\")\n",
        "random_tensor_A == random_tensor_B\n",
        "```\n",
        "\n",
        "- Baris ini mencetak pesan dan kemudian melakukan perbandingan element-wise antara `random_tensor_A` dan `random_tensor_B` menggunakan operator `==`. Hasilnya adalah tensor boolean dengan ukuran yang sama seperti kedua tensor, yang menunjukkan apakah setiap elemen di kedua tensor tersebut sama.\n",
        "\n",
        "Jadi, secara keseluruhan, kode tersebut menciptakan dua tensor acak dan memeriksa apakah elemen-elemen tensor A sama dengan elemen-elemen tensor B dengan melakukan perbandingan element-wise."
      ],
      "metadata": {
        "id": "qZHhPfzRxr06"
      }
    },
    {
      "cell_type": "code",
      "source": [
        "import torch\n",
        "import random\n",
        "\n",
        "# # Set the random seed\n",
        "RANDOM_SEED=42 # try changing this to different values and see what happens to the numbers below\n",
        "torch.manual_seed(seed=RANDOM_SEED)\n",
        "random_tensor_C = torch.rand(3, 4)\n",
        "\n",
        "# Have to reset the seed every time a new rand() is called\n",
        "# Without this, tensor_D would be different to tensor_C\n",
        "torch.random.manual_seed(seed=RANDOM_SEED) # try commenting this line out and seeing what happens\n",
        "random_tensor_D = torch.rand(3, 4)\n",
        "\n",
        "print(f\"Tensor C:\\n{random_tensor_C}\\n\")\n",
        "print(f\"Tensor D:\\n{random_tensor_D}\\n\")\n",
        "print(f\"Does Tensor C equal Tensor D? (anywhere)\")\n",
        "random_tensor_C == random_tensor_D"
      ],
      "metadata": {
        "colab": {
          "base_uri": "https://localhost:8080/"
        },
        "id": "CBcGLmQlAsbV",
        "outputId": "66e58121-0fa2-4b5e-adf1-0f89b8effb1f"
      },
      "execution_count": 108,
      "outputs": [
        {
          "output_type": "stream",
          "name": "stdout",
          "text": [
            "Tensor C:\n",
            "tensor([[0.8823, 0.9150, 0.3829, 0.9593],\n",
            "        [0.3904, 0.6009, 0.2566, 0.7936],\n",
            "        [0.9408, 0.1332, 0.9346, 0.5936]])\n",
            "\n",
            "Tensor D:\n",
            "tensor([[0.8823, 0.9150, 0.3829, 0.9593],\n",
            "        [0.3904, 0.6009, 0.2566, 0.7936],\n",
            "        [0.9408, 0.1332, 0.9346, 0.5936]])\n",
            "\n",
            "Does Tensor C equal Tensor D? (anywhere)\n"
          ]
        },
        {
          "output_type": "execute_result",
          "data": {
            "text/plain": [
              "tensor([[True, True, True, True],\n",
              "        [True, True, True, True],\n",
              "        [True, True, True, True]])"
            ]
          },
          "metadata": {},
          "execution_count": 108
        }
      ]
    },
    {
      "cell_type": "markdown",
      "source": [
        "Dalam kode di atas, Anda mengatur seed (benih) untuk generator angka acak PyTorch dan menggunakan fungsi `torch.rand()` untuk membuat dua tensor acak `random_tensor_C` dan `random_tensor_D`. Kemudian, Anda memeriksa apakah elemen-elemen tensor C sama dengan elemen-elemen tensor D. Berikut adalah penjelasan singkat:\n",
        "\n",
        "```python\n",
        "import torch\n",
        "import random\n",
        "\n",
        "# Set the random seed\n",
        "RANDOM_SEED = 42\n",
        "torch.manual_seed(seed=RANDOM_SEED)\n",
        "random_tensor_C = torch.rand(3, 4)\n",
        "\n",
        "# Have to reset the seed every time a new rand() is called\n",
        "# Without this, tensor_D would be different to tensor_C\n",
        "torch.random.manual_seed(seed=RANDOM_SEED)\n",
        "random_tensor_D = torch.rand(3, 4)\n",
        "\n",
        "print(f\"Tensor C:\\n{random_tensor_C}\\n\")\n",
        "print(f\"Tensor D:\\n{random_tensor_D}\\n\")\n",
        "```\n",
        "\n",
        "- Baris-baris ini mengatur seed (benih) untuk generator angka acak PyTorch menggunakan `torch.manual_seed()` dan membuat tensor acak `random_tensor_C` menggunakan `torch.rand(3, 4)`.\n",
        "\n",
        "- Baris-baris selanjutnya mengatur seed (benih) kembali sebelum membuat tensor acak `random_tensor_D`, untuk memastikan bahwa generator angka acak menghasilkan nilai yang sama ketika seed (benih) yang sama digunakan.\n",
        "\n",
        "```python\n",
        "print(f\"Does Tensor C equal Tensor D? (anywhere)\")\n",
        "random_tensor_C == random_tensor_D\n",
        "```\n",
        "\n",
        "- Baris ini mencetak pesan dan kemudian melakukan perbandingan element-wise antara `random_tensor_C` dan `random_tensor_D` menggunakan operator `==`. Hasilnya adalah tensor boolean dengan ukuran yang sama seperti kedua tensor, yang menunjukkan apakah setiap elemen di kedua tensor tersebut sama.\n",
        "\n",
        "Jadi, secara keseluruhan, kode tersebut menggunakan seed (benih) yang sama untuk menghasilkan tensor acak yang identik `random_tensor_C` dan `random_tensor_D`."
      ],
      "metadata": {
        "id": "15lNaMlCxx9p"
      }
    },
    {
      "cell_type": "code",
      "source": [
        "!nvidia-smi"
      ],
      "metadata": {
        "colab": {
          "base_uri": "https://localhost:8080/"
        },
        "id": "Ua1Uag_hAtXq",
        "outputId": "009c52b0-905b-4c11-9430-4d86d0f8cdec"
      },
      "execution_count": 109,
      "outputs": [
        {
          "output_type": "stream",
          "name": "stdout",
          "text": [
            "Wed Jan  3 11:08:58 2024       \n",
            "+---------------------------------------------------------------------------------------+\n",
            "| NVIDIA-SMI 535.104.05             Driver Version: 535.104.05   CUDA Version: 12.2     |\n",
            "|-----------------------------------------+----------------------+----------------------+\n",
            "| GPU  Name                 Persistence-M | Bus-Id        Disp.A | Volatile Uncorr. ECC |\n",
            "| Fan  Temp   Perf          Pwr:Usage/Cap |         Memory-Usage | GPU-Util  Compute M. |\n",
            "|                                         |                      |               MIG M. |\n",
            "|=========================================+======================+======================|\n",
            "|   0  Tesla T4                       Off | 00000000:00:04.0 Off |                    0 |\n",
            "| N/A   40C    P8               9W /  70W |      0MiB / 15360MiB |      0%      Default |\n",
            "|                                         |                      |                  N/A |\n",
            "+-----------------------------------------+----------------------+----------------------+\n",
            "                                                                                         \n",
            "+---------------------------------------------------------------------------------------+\n",
            "| Processes:                                                                            |\n",
            "|  GPU   GI   CI        PID   Type   Process name                            GPU Memory |\n",
            "|        ID   ID                                                             Usage      |\n",
            "|=======================================================================================|\n",
            "|  No running processes found                                                           |\n",
            "+---------------------------------------------------------------------------------------+\n"
          ]
        }
      ]
    },
    {
      "cell_type": "markdown",
      "source": [
        "`!nvidia-smi` adalah perintah yang digunakan untuk menampilkan informasi tentang kartu grafis NVIDIA yang terpasang pada sistem komputer. Fungsinya mencakup informasi seperti model GPU, penggunaan memori, suhu, dan status kinerja lainnya. Perintah ini sering digunakan untuk memantau dan mengelola GPU, terutama dalam konteks pengembangan dan pemrograman yang melibatkan komputasi GPU, seperti pelatihan model deep learning menggunakan GPU."
      ],
      "metadata": {
        "id": "L6DDTgyLx_wF"
      }
    },
    {
      "cell_type": "code",
      "source": [
        "# Check for GPU\n",
        "import torch\n",
        "torch.cuda.is_available()"
      ],
      "metadata": {
        "colab": {
          "base_uri": "https://localhost:8080/"
        },
        "id": "nXC2EnRMAx8m",
        "outputId": "ef3c401c-bae7-4434-fa77-c393c756197e"
      },
      "execution_count": 110,
      "outputs": [
        {
          "output_type": "execute_result",
          "data": {
            "text/plain": [
              "True"
            ]
          },
          "metadata": {},
          "execution_count": 110
        }
      ]
    },
    {
      "cell_type": "code",
      "source": [
        "# Set device type\n",
        "device = \"cuda\" if torch.cuda.is_available() else \"cpu\"\n",
        "device"
      ],
      "metadata": {
        "colab": {
          "base_uri": "https://localhost:8080/",
          "height": 35
        },
        "id": "MmbtsHYdA1cv",
        "outputId": "05846e8a-7e7c-4de5-ed03-0df0900d15cd"
      },
      "execution_count": 111,
      "outputs": [
        {
          "output_type": "execute_result",
          "data": {
            "text/plain": [
              "'cuda'"
            ],
            "application/vnd.google.colaboratory.intrinsic+json": {
              "type": "string"
            }
          },
          "metadata": {},
          "execution_count": 111
        }
      ]
    },
    {
      "cell_type": "code",
      "source": [
        "# Count number of devices\n",
        "torch.cuda.device_count()"
      ],
      "metadata": {
        "colab": {
          "base_uri": "https://localhost:8080/"
        },
        "id": "_wKwcrOAA2_J",
        "outputId": "d36a115a-ef8b-4f51-fcdd-0bd8cf01b1d9"
      },
      "execution_count": 112,
      "outputs": [
        {
          "output_type": "execute_result",
          "data": {
            "text/plain": [
              "1"
            ]
          },
          "metadata": {},
          "execution_count": 112
        }
      ]
    },
    {
      "cell_type": "code",
      "source": [
        "# Create tensor (default on CPU)\n",
        "tensor = torch.tensor([1, 2, 3])\n",
        "\n",
        "# Tensor not on GPU\n",
        "print(tensor, tensor.device)\n",
        "\n",
        "# Move tensor to GPU (if available)\n",
        "tensor_on_gpu = tensor.to(device)\n",
        "tensor_on_gpu"
      ],
      "metadata": {
        "colab": {
          "base_uri": "https://localhost:8080/"
        },
        "id": "8YrHqJX5A4hz",
        "outputId": "50a35c19-2235-40e4-d478-aaf9cf3658e2"
      },
      "execution_count": 113,
      "outputs": [
        {
          "output_type": "stream",
          "name": "stdout",
          "text": [
            "tensor([1, 2, 3]) cpu\n"
          ]
        },
        {
          "output_type": "execute_result",
          "data": {
            "text/plain": [
              "tensor([1, 2, 3], device='cuda:0')"
            ]
          },
          "metadata": {},
          "execution_count": 113
        }
      ]
    },
    {
      "cell_type": "markdown",
      "source": [
        "Dalam kode di atas, Anda membuat tensor PyTorch pada CPU dan kemudian memindahkannya ke GPU (jika tersedia). Berikut adalah penjelasan singkat:\n",
        "\n",
        "```python\n",
        "# Create tensor (default on CPU)\n",
        "tensor = torch.tensor([1, 2, 3])\n",
        "\n",
        "# Tensor not on GPU\n",
        "print(tensor, tensor.device)\n",
        "```\n",
        "\n",
        "- Baris-baris ini membuat tensor PyTorch `tensor` pada CPU dengan menggunakan `torch.tensor([1, 2, 3])`.\n",
        "\n",
        "```python\n",
        "# Move tensor to GPU (if available)\n",
        "tensor_on_gpu = tensor.to(device)\n",
        "```\n",
        "\n",
        "- Baris ini memindahkan tensor dari CPU ke GPU (jika GPU tersedia) dengan menggunakan metode `to(device)`. Harap diperhatikan bahwa variabel `device` harus didefinisikan sebelumnya dan menunjuk ke GPU.\n",
        "\n",
        "```python\n",
        "tensor_on_gpu\n",
        "```\n",
        "\n",
        "- Baris ini mencetak tensor yang sudah dipindahkan ke GPU.\n",
        "\n",
        "Jadi, secara keseluruhan, kode tersebut menciptakan tensor pada CPU dan kemudian memindahkannya ke GPU (jika tersedia) menggunakan metode `to(device)`."
      ],
      "metadata": {
        "id": "zkx9orvvyDwG"
      }
    },
    {
      "cell_type": "code",
      "source": [
        "# If tensor is on GPU, can't transform it to NumPy (this will error)\n",
        "tensor_on_gpu.numpy()"
      ],
      "metadata": {
        "colab": {
          "base_uri": "https://localhost:8080/",
          "height": 193
        },
        "id": "A7cNUh0zA6Ks",
        "outputId": "f452cd53-0942-46fa-9d23-23fee556bf80"
      },
      "execution_count": 114,
      "outputs": [
        {
          "output_type": "error",
          "ename": "TypeError",
          "evalue": "ignored",
          "traceback": [
            "\u001b[0;31m---------------------------------------------------------------------------\u001b[0m",
            "\u001b[0;31mTypeError\u001b[0m                                 Traceback (most recent call last)",
            "\u001b[0;32m<ipython-input-114-53175578f49e>\u001b[0m in \u001b[0;36m<cell line: 2>\u001b[0;34m()\u001b[0m\n\u001b[1;32m      1\u001b[0m \u001b[0;31m# If tensor is on GPU, can't transform it to NumPy (this will error)\u001b[0m\u001b[0;34m\u001b[0m\u001b[0;34m\u001b[0m\u001b[0m\n\u001b[0;32m----> 2\u001b[0;31m \u001b[0mtensor_on_gpu\u001b[0m\u001b[0;34m.\u001b[0m\u001b[0mnumpy\u001b[0m\u001b[0;34m(\u001b[0m\u001b[0;34m)\u001b[0m\u001b[0;34m\u001b[0m\u001b[0;34m\u001b[0m\u001b[0m\n\u001b[0m",
            "\u001b[0;31mTypeError\u001b[0m: can't convert cuda:0 device type tensor to numpy. Use Tensor.cpu() to copy the tensor to host memory first."
          ]
        }
      ]
    },
    {
      "cell_type": "markdown",
      "source": [
        "Benar, jika tensor berada di GPU, Anda tidak dapat langsung mengonversinya ke NumPy array menggunakan `numpy()` tanpa terlebih dahulu memindahkannya kembali ke CPU. Hal ini karena operasi NumPy biasanya dilakukan pada CPU. Jika Anda mencoba melakukannya pada GPU, akan muncul kesalahan.\n",
        "\n",
        "Anda perlu mengirim tensor kembali ke CPU sebelum mengonversinya menjadi NumPy array. Misalnya:\n",
        "\n",
        "```python\n",
        "# Move tensor back to CPU\n",
        "tensor_on_cpu = tensor_on_gpu.to('cpu')\n",
        "\n",
        "# Now, you can convert it to NumPy array\n",
        "numpy_array = tensor_on_cpu.numpy()\n",
        "```\n",
        "\n",
        "Dengan cara ini, Anda dapat mengonversi tensor yang awalnya berada di GPU menjadi NumPy array setelah memindahkannya kembali ke CPU."
      ],
      "metadata": {
        "id": "D0eV1NkmyJJz"
      }
    },
    {
      "cell_type": "code",
      "source": [
        "# Instead, copy the tensor back to cpu\n",
        "tensor_back_on_cpu = tensor_on_gpu.cpu().numpy()\n",
        "tensor_back_on_cpu"
      ],
      "metadata": {
        "colab": {
          "base_uri": "https://localhost:8080/"
        },
        "id": "5O9NQImgA96S",
        "outputId": "16018102-aee0-4a09-9258-709f9ef777fb"
      },
      "execution_count": 115,
      "outputs": [
        {
          "output_type": "execute_result",
          "data": {
            "text/plain": [
              "array([1, 2, 3])"
            ]
          },
          "metadata": {},
          "execution_count": 115
        }
      ]
    },
    {
      "cell_type": "markdown",
      "source": [
        "Anda benar, menggunakan `.cpu().numpy()` adalah cara yang tepat untuk mengonversi tensor yang berada di GPU ke NumPy array. Metode `.cpu()` digunakan untuk memindahkan tensor kembali ke CPU, dan kemudian `.numpy()` digunakan untuk mengonversinya menjadi NumPy array. Berikut adalah contohnya:\n",
        "\n",
        "```python\n",
        "# Instead, copy the tensor back to CPU\n",
        "tensor_back_on_cpu = tensor_on_gpu.cpu().numpy()\n",
        "```\n",
        "\n",
        "Dengan cara ini, Anda berhasil mengonversi tensor yang berada di GPU ke NumPy array setelah memindahkannya kembali ke CPU."
      ],
      "metadata": {
        "id": "f6wv9j1UyNqF"
      }
    },
    {
      "cell_type": "code",
      "source": [
        "tensor_on_gpu"
      ],
      "metadata": {
        "colab": {
          "base_uri": "https://localhost:8080/"
        },
        "id": "at7CYiOGBA1p",
        "outputId": "e9045af8-8b20-4b12-f18e-f94a3b02ab21"
      },
      "execution_count": 116,
      "outputs": [
        {
          "output_type": "execute_result",
          "data": {
            "text/plain": [
              "tensor([1, 2, 3], device='cuda:0')"
            ]
          },
          "metadata": {},
          "execution_count": 116
        }
      ]
    },
    {
      "cell_type": "markdown",
      "source": [
        "Sepertinya Anda ingin menampilkan isi dari tensor yang dipindahkan ke GPU. Untuk menampilkan konten dari `tensor_on_gpu`, Anda dapat mencetaknya. Berikut adalah konten dari `tensor_on_gpu`:\n",
        "\n",
        "```python\n",
        "tensor_on_gpu\n",
        "```\n",
        "\n",
        "Ini akan mencetak tensor yang dipindahkan ke GPU. Jika Anda memiliki pertanyaan khusus atau jika ada hal lain yang ingin Anda ketahui atau lakukan dengan `tensor_on_gpu`, beri tahu saya!"
      ],
      "metadata": {
        "id": "rkfoKGXtyRv4"
      }
    }
  ]
}